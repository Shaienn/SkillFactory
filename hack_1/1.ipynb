{
 "cells": [
  {
   "cell_type": "code",
   "execution_count": 1,
   "metadata": {},
   "outputs": [],
   "source": [
    "import pandas as pd\n",
    "import numpy as np\n",
    "import matplotlib.pyplot as plt\n",
    "from itertools import combinations\n",
    "\n"
   ]
  },
  {
   "cell_type": "code",
   "execution_count": 2,
   "metadata": {},
   "outputs": [],
   "source": [
    "data_raw = pd.read_excel('yandex_hack.xlsx', sheet_name='result 1')"
   ]
  },
  {
   "cell_type": "code",
   "execution_count": 3,
   "metadata": {},
   "outputs": [],
   "source": [
    "data_raw['order_created_datetime'] = pd.to_datetime(data_raw['order_created_datetime']).astype('int64') // 10 ** 9 # переведем время в секунды"
   ]
  },
  {
   "cell_type": "code",
   "execution_count": 4,
   "metadata": {},
   "outputs": [],
   "source": [
    "# разделим датасет по выборке ресторанов\n",
    "\n",
    "dataA_raw = data_raw[data_raw.brand_name=='A'] \n",
    "dataB_raw = data_raw[data_raw.brand_name=='B']"
   ]
  },
  {
   "cell_type": "code",
   "execution_count": 5,
   "metadata": {},
   "outputs": [],
   "source": [
    "data3 = dataA_raw.dropna(axis=0) # оставим в первой выборке только заказы, которые были объединены "
   ]
  },
  {
   "cell_type": "code",
   "execution_count": 6,
   "metadata": {},
   "outputs": [
    {
     "data": {
      "text/html": [
       "<div>\n",
       "<style scoped>\n",
       "    .dataframe tbody tr th:only-of-type {\n",
       "        vertical-align: middle;\n",
       "    }\n",
       "\n",
       "    .dataframe tbody tr th {\n",
       "        vertical-align: top;\n",
       "    }\n",
       "\n",
       "    .dataframe thead th {\n",
       "        text-align: right;\n",
       "    }\n",
       "</style>\n",
       "<table border=\"1\" class=\"dataframe\">\n",
       "  <thead>\n",
       "    <tr style=\"text-align: right;\">\n",
       "      <th></th>\n",
       "      <th>order_created_datetime</th>\n",
       "      <th>brand_name</th>\n",
       "      <th>rest_id</th>\n",
       "      <th>batched_with_order_id</th>\n",
       "      <th>order_id</th>\n",
       "      <th>first_in_multiorder_flg</th>\n",
       "      <th>courier_id</th>\n",
       "      <th>order_items_cnt</th>\n",
       "      <th>city</th>\n",
       "    </tr>\n",
       "  </thead>\n",
       "  <tbody>\n",
       "    <tr>\n",
       "      <th>257</th>\n",
       "      <td>1442165828</td>\n",
       "      <td>A</td>\n",
       "      <td>8da96a16838351f6f096d45a4e159f4d</td>\n",
       "      <td>89164b34e9d20a1c1918d156ca7c2b1e</td>\n",
       "      <td>9f8fb710b29202ac3dc36a6712186de4</td>\n",
       "      <td>0.0</td>\n",
       "      <td>2644231e976679c41b15a11524a4e530</td>\n",
       "      <td>8</td>\n",
       "      <td>e6705560085199e9674cd721ee844d0d</td>\n",
       "    </tr>\n",
       "    <tr>\n",
       "      <th>435</th>\n",
       "      <td>1442143129</td>\n",
       "      <td>A</td>\n",
       "      <td>b3bf2fc20c4646298c05716fbe1aa135</td>\n",
       "      <td>afc4c403cc654734538b007fdbc87664</td>\n",
       "      <td>d887b9731cf06e5dd77623ef5ad56cd8</td>\n",
       "      <td>0.0</td>\n",
       "      <td>8632dc891885aba8e572522dedc7572f</td>\n",
       "      <td>3</td>\n",
       "      <td>e6705560085199e9674cd721ee844d0d</td>\n",
       "    </tr>\n",
       "    <tr>\n",
       "      <th>526</th>\n",
       "      <td>1442318103</td>\n",
       "      <td>A</td>\n",
       "      <td>2acb4a3db77b139dda1cd6bcbbfd4b8e</td>\n",
       "      <td>986941e665d646910d432b5f48f9b94c</td>\n",
       "      <td>fd0dde82caff2d709ac803c8872fd1e9</td>\n",
       "      <td>0.0</td>\n",
       "      <td>7e8de661602e618fe8cb16c8b3e02a95</td>\n",
       "      <td>3</td>\n",
       "      <td>e6705560085199e9674cd721ee844d0d</td>\n",
       "    </tr>\n",
       "    <tr>\n",
       "      <th>684</th>\n",
       "      <td>1442338563</td>\n",
       "      <td>A</td>\n",
       "      <td>525505123c94df09ef5b5614e4afe7b2</td>\n",
       "      <td>d469fe73826b9b3f1a3ee58869d91757</td>\n",
       "      <td>b4e39b3e84e81f1ea34c353896ff6853</td>\n",
       "      <td>0.0</td>\n",
       "      <td>876e5276f463736bf52fc540664fd02e</td>\n",
       "      <td>5</td>\n",
       "      <td>e6705560085199e9674cd721ee844d0d</td>\n",
       "    </tr>\n",
       "    <tr>\n",
       "      <th>717</th>\n",
       "      <td>1442164087</td>\n",
       "      <td>A</td>\n",
       "      <td>680fee36fb26805d3bf7af52cdb44f0f</td>\n",
       "      <td>831b2771564b022030ce699e6807ab03</td>\n",
       "      <td>6efbee90330a0bced1f7938a2e209054</td>\n",
       "      <td>0.0</td>\n",
       "      <td>8a2d57b71452eed5c78c3f81ee2999d2</td>\n",
       "      <td>3</td>\n",
       "      <td>e6705560085199e9674cd721ee844d0d</td>\n",
       "    </tr>\n",
       "    <tr>\n",
       "      <th>...</th>\n",
       "      <td>...</td>\n",
       "      <td>...</td>\n",
       "      <td>...</td>\n",
       "      <td>...</td>\n",
       "      <td>...</td>\n",
       "      <td>...</td>\n",
       "      <td>...</td>\n",
       "      <td>...</td>\n",
       "      <td>...</td>\n",
       "    </tr>\n",
       "    <tr>\n",
       "      <th>65377</th>\n",
       "      <td>1442241635</td>\n",
       "      <td>A</td>\n",
       "      <td>974d115d8040e56fcac9638bd33e1731</td>\n",
       "      <td>bdb29739e550cd9bce8d0b2e07b6f33b</td>\n",
       "      <td>759928f3b5075cf0eea68cc97d17cf06</td>\n",
       "      <td>1.0</td>\n",
       "      <td>88750b500f3f628d7d85b352f6113736</td>\n",
       "      <td>2</td>\n",
       "      <td>e6705560085199e9674cd721ee844d0d</td>\n",
       "    </tr>\n",
       "    <tr>\n",
       "      <th>65416</th>\n",
       "      <td>1442241320</td>\n",
       "      <td>A</td>\n",
       "      <td>974d115d8040e56fcac9638bd33e1731</td>\n",
       "      <td>759928f3b5075cf0eea68cc97d17cf06</td>\n",
       "      <td>bdb29739e550cd9bce8d0b2e07b6f33b</td>\n",
       "      <td>0.0</td>\n",
       "      <td>88750b500f3f628d7d85b352f6113736</td>\n",
       "      <td>7</td>\n",
       "      <td>e6705560085199e9674cd721ee844d0d</td>\n",
       "    </tr>\n",
       "    <tr>\n",
       "      <th>65456</th>\n",
       "      <td>1442334920</td>\n",
       "      <td>A</td>\n",
       "      <td>b3bf2fc20c4646298c05716fbe1aa135</td>\n",
       "      <td>f67eb84cf826ea33988019b56cf99b6b</td>\n",
       "      <td>517d0dcde489a94e594d2c028dbcb84a</td>\n",
       "      <td>1.0</td>\n",
       "      <td>310b2378b5bf2b9f7046c70c3082103d</td>\n",
       "      <td>3</td>\n",
       "      <td>e6705560085199e9674cd721ee844d0d</td>\n",
       "    </tr>\n",
       "    <tr>\n",
       "      <th>65595</th>\n",
       "      <td>1442273122</td>\n",
       "      <td>A</td>\n",
       "      <td>b3bf2fc20c4646298c05716fbe1aa135</td>\n",
       "      <td>0e0984a5a2019591d54af8bde172e75b</td>\n",
       "      <td>a91a73cc77884c0c594d0a600aa0fe5b</td>\n",
       "      <td>0.0</td>\n",
       "      <td>d41ff061323280cf0cebd9adb7a0755e</td>\n",
       "      <td>5</td>\n",
       "      <td>e6705560085199e9674cd721ee844d0d</td>\n",
       "    </tr>\n",
       "    <tr>\n",
       "      <th>65893</th>\n",
       "      <td>1442160619</td>\n",
       "      <td>A</td>\n",
       "      <td>485498fd82fb0d82fd89da0b8af280d4</td>\n",
       "      <td>472daa3056f5a59dc94f86290390e802</td>\n",
       "      <td>570125290d88158a8e02b7663f09363e</td>\n",
       "      <td>0.0</td>\n",
       "      <td>3f3c902e25018700cacecf38f5414e45</td>\n",
       "      <td>4</td>\n",
       "      <td>e6705560085199e9674cd721ee844d0d</td>\n",
       "    </tr>\n",
       "  </tbody>\n",
       "</table>\n",
       "<p>442 rows × 9 columns</p>\n",
       "</div>"
      ],
      "text/plain": [
       "       order_created_datetime brand_name                           rest_id  \\\n",
       "257                1442165828          A  8da96a16838351f6f096d45a4e159f4d   \n",
       "435                1442143129          A  b3bf2fc20c4646298c05716fbe1aa135   \n",
       "526                1442318103          A  2acb4a3db77b139dda1cd6bcbbfd4b8e   \n",
       "684                1442338563          A  525505123c94df09ef5b5614e4afe7b2   \n",
       "717                1442164087          A  680fee36fb26805d3bf7af52cdb44f0f   \n",
       "...                       ...        ...                               ...   \n",
       "65377              1442241635          A  974d115d8040e56fcac9638bd33e1731   \n",
       "65416              1442241320          A  974d115d8040e56fcac9638bd33e1731   \n",
       "65456              1442334920          A  b3bf2fc20c4646298c05716fbe1aa135   \n",
       "65595              1442273122          A  b3bf2fc20c4646298c05716fbe1aa135   \n",
       "65893              1442160619          A  485498fd82fb0d82fd89da0b8af280d4   \n",
       "\n",
       "                  batched_with_order_id                          order_id  \\\n",
       "257    89164b34e9d20a1c1918d156ca7c2b1e  9f8fb710b29202ac3dc36a6712186de4   \n",
       "435    afc4c403cc654734538b007fdbc87664  d887b9731cf06e5dd77623ef5ad56cd8   \n",
       "526    986941e665d646910d432b5f48f9b94c  fd0dde82caff2d709ac803c8872fd1e9   \n",
       "684    d469fe73826b9b3f1a3ee58869d91757  b4e39b3e84e81f1ea34c353896ff6853   \n",
       "717    831b2771564b022030ce699e6807ab03  6efbee90330a0bced1f7938a2e209054   \n",
       "...                                 ...                               ...   \n",
       "65377  bdb29739e550cd9bce8d0b2e07b6f33b  759928f3b5075cf0eea68cc97d17cf06   \n",
       "65416  759928f3b5075cf0eea68cc97d17cf06  bdb29739e550cd9bce8d0b2e07b6f33b   \n",
       "65456  f67eb84cf826ea33988019b56cf99b6b  517d0dcde489a94e594d2c028dbcb84a   \n",
       "65595  0e0984a5a2019591d54af8bde172e75b  a91a73cc77884c0c594d0a600aa0fe5b   \n",
       "65893  472daa3056f5a59dc94f86290390e802  570125290d88158a8e02b7663f09363e   \n",
       "\n",
       "       first_in_multiorder_flg                        courier_id  \\\n",
       "257                        0.0  2644231e976679c41b15a11524a4e530   \n",
       "435                        0.0  8632dc891885aba8e572522dedc7572f   \n",
       "526                        0.0  7e8de661602e618fe8cb16c8b3e02a95   \n",
       "684                        0.0  876e5276f463736bf52fc540664fd02e   \n",
       "717                        0.0  8a2d57b71452eed5c78c3f81ee2999d2   \n",
       "...                        ...                               ...   \n",
       "65377                      1.0  88750b500f3f628d7d85b352f6113736   \n",
       "65416                      0.0  88750b500f3f628d7d85b352f6113736   \n",
       "65456                      1.0  310b2378b5bf2b9f7046c70c3082103d   \n",
       "65595                      0.0  d41ff061323280cf0cebd9adb7a0755e   \n",
       "65893                      0.0  3f3c902e25018700cacecf38f5414e45   \n",
       "\n",
       "       order_items_cnt                              city  \n",
       "257                  8  e6705560085199e9674cd721ee844d0d  \n",
       "435                  3  e6705560085199e9674cd721ee844d0d  \n",
       "526                  3  e6705560085199e9674cd721ee844d0d  \n",
       "684                  5  e6705560085199e9674cd721ee844d0d  \n",
       "717                  3  e6705560085199e9674cd721ee844d0d  \n",
       "...                ...                               ...  \n",
       "65377                2  e6705560085199e9674cd721ee844d0d  \n",
       "65416                7  e6705560085199e9674cd721ee844d0d  \n",
       "65456                3  e6705560085199e9674cd721ee844d0d  \n",
       "65595                5  e6705560085199e9674cd721ee844d0d  \n",
       "65893                4  e6705560085199e9674cd721ee844d0d  \n",
       "\n",
       "[442 rows x 9 columns]"
      ]
     },
     "execution_count": 6,
     "metadata": {},
     "output_type": "execute_result"
    }
   ],
   "source": [
    "data3"
   ]
  },
  {
   "cell_type": "markdown",
   "metadata": {},
   "source": [
    "Всего было объединено в мультизаказы 442 заказа. То есть в выборке присутствует информация о 221 мультизаказе. "
   ]
  },
  {
   "cell_type": "code",
   "execution_count": 7,
   "metadata": {},
   "outputs": [],
   "source": [
    "data_0 = data3[data3.first_in_multiorder_flg==0.0] # теперь разделим заказы на две части по номеру в мультизаказе\n",
    "data_1 = data3[data3.first_in_multiorder_flg==1.0]"
   ]
  },
  {
   "cell_type": "code",
   "execution_count": 8,
   "metadata": {},
   "outputs": [
    {
     "name": "stderr",
     "output_type": "stream",
     "text": [
      "C:\\Users\\shaienn\\anaconda3\\lib\\site-packages\\pandas\\core\\frame.py:3990: SettingWithCopyWarning: \n",
      "A value is trying to be set on a copy of a slice from a DataFrame\n",
      "\n",
      "See the caveats in the documentation: https://pandas.pydata.org/pandas-docs/stable/user_guide/indexing.html#returning-a-view-versus-a-copy\n",
      "  return super().drop(\n"
     ]
    }
   ],
   "source": [
    "data_1.drop(['order_id'], inplace = True, axis = 1) # удалим из одной выборки индификатор заказа, а из другой индификатор объедененного заказа\n",
    "data_0.drop(['batched_with_order_id'], inplace = True, axis = 1)\n",
    "data_1.columns = ['order_created_datetime_1', 'brand_name', 'rest_id' , 'order_id', 'first_in_multiorder_flg_1', 'courier_id', 'order_items_cnt_1', 'city']\n",
    "# переименуем колонки для того чтобы можно было соеденить два датасета"
   ]
  },
  {
   "cell_type": "code",
   "execution_count": 9,
   "metadata": {},
   "outputs": [
    {
     "data": {
      "text/html": [
       "<div>\n",
       "<style scoped>\n",
       "    .dataframe tbody tr th:only-of-type {\n",
       "        vertical-align: middle;\n",
       "    }\n",
       "\n",
       "    .dataframe tbody tr th {\n",
       "        vertical-align: top;\n",
       "    }\n",
       "\n",
       "    .dataframe thead th {\n",
       "        text-align: right;\n",
       "    }\n",
       "</style>\n",
       "<table border=\"1\" class=\"dataframe\">\n",
       "  <thead>\n",
       "    <tr style=\"text-align: right;\">\n",
       "      <th></th>\n",
       "      <th>order_created_datetime</th>\n",
       "      <th>brand_name</th>\n",
       "      <th>rest_id</th>\n",
       "      <th>order_id</th>\n",
       "      <th>first_in_multiorder_flg</th>\n",
       "      <th>courier_id</th>\n",
       "      <th>order_items_cnt</th>\n",
       "      <th>city</th>\n",
       "      <th>order_created_datetime_1</th>\n",
       "      <th>first_in_multiorder_flg_1</th>\n",
       "      <th>order_items_cnt_1</th>\n",
       "    </tr>\n",
       "  </thead>\n",
       "  <tbody>\n",
       "    <tr>\n",
       "      <th>0</th>\n",
       "      <td>1442165828</td>\n",
       "      <td>A</td>\n",
       "      <td>8da96a16838351f6f096d45a4e159f4d</td>\n",
       "      <td>9f8fb710b29202ac3dc36a6712186de4</td>\n",
       "      <td>0.0</td>\n",
       "      <td>2644231e976679c41b15a11524a4e530</td>\n",
       "      <td>8</td>\n",
       "      <td>e6705560085199e9674cd721ee844d0d</td>\n",
       "      <td>1442165669</td>\n",
       "      <td>1.0</td>\n",
       "      <td>8</td>\n",
       "    </tr>\n",
       "    <tr>\n",
       "      <th>1</th>\n",
       "      <td>1442143129</td>\n",
       "      <td>A</td>\n",
       "      <td>b3bf2fc20c4646298c05716fbe1aa135</td>\n",
       "      <td>d887b9731cf06e5dd77623ef5ad56cd8</td>\n",
       "      <td>0.0</td>\n",
       "      <td>8632dc891885aba8e572522dedc7572f</td>\n",
       "      <td>3</td>\n",
       "      <td>e6705560085199e9674cd721ee844d0d</td>\n",
       "      <td>1442142624</td>\n",
       "      <td>1.0</td>\n",
       "      <td>4</td>\n",
       "    </tr>\n",
       "    <tr>\n",
       "      <th>2</th>\n",
       "      <td>1442318103</td>\n",
       "      <td>A</td>\n",
       "      <td>2acb4a3db77b139dda1cd6bcbbfd4b8e</td>\n",
       "      <td>fd0dde82caff2d709ac803c8872fd1e9</td>\n",
       "      <td>0.0</td>\n",
       "      <td>7e8de661602e618fe8cb16c8b3e02a95</td>\n",
       "      <td>3</td>\n",
       "      <td>e6705560085199e9674cd721ee844d0d</td>\n",
       "      <td>1442317504</td>\n",
       "      <td>1.0</td>\n",
       "      <td>3</td>\n",
       "    </tr>\n",
       "    <tr>\n",
       "      <th>3</th>\n",
       "      <td>1442338563</td>\n",
       "      <td>A</td>\n",
       "      <td>525505123c94df09ef5b5614e4afe7b2</td>\n",
       "      <td>b4e39b3e84e81f1ea34c353896ff6853</td>\n",
       "      <td>0.0</td>\n",
       "      <td>876e5276f463736bf52fc540664fd02e</td>\n",
       "      <td>5</td>\n",
       "      <td>e6705560085199e9674cd721ee844d0d</td>\n",
       "      <td>1442338075</td>\n",
       "      <td>1.0</td>\n",
       "      <td>3</td>\n",
       "    </tr>\n",
       "    <tr>\n",
       "      <th>4</th>\n",
       "      <td>1442164087</td>\n",
       "      <td>A</td>\n",
       "      <td>680fee36fb26805d3bf7af52cdb44f0f</td>\n",
       "      <td>6efbee90330a0bced1f7938a2e209054</td>\n",
       "      <td>0.0</td>\n",
       "      <td>8a2d57b71452eed5c78c3f81ee2999d2</td>\n",
       "      <td>3</td>\n",
       "      <td>e6705560085199e9674cd721ee844d0d</td>\n",
       "      <td>1442163795</td>\n",
       "      <td>1.0</td>\n",
       "      <td>4</td>\n",
       "    </tr>\n",
       "    <tr>\n",
       "      <th>...</th>\n",
       "      <td>...</td>\n",
       "      <td>...</td>\n",
       "      <td>...</td>\n",
       "      <td>...</td>\n",
       "      <td>...</td>\n",
       "      <td>...</td>\n",
       "      <td>...</td>\n",
       "      <td>...</td>\n",
       "      <td>...</td>\n",
       "      <td>...</td>\n",
       "      <td>...</td>\n",
       "    </tr>\n",
       "    <tr>\n",
       "      <th>216</th>\n",
       "      <td>1442308194</td>\n",
       "      <td>A</td>\n",
       "      <td>a1665b955392495315d4708ab81fc60c</td>\n",
       "      <td>4914b62257431410a226da5d8945b78b</td>\n",
       "      <td>0.0</td>\n",
       "      <td>df212efe543f7f2465672b7609f68159</td>\n",
       "      <td>3</td>\n",
       "      <td>e6705560085199e9674cd721ee844d0d</td>\n",
       "      <td>1442308500</td>\n",
       "      <td>1.0</td>\n",
       "      <td>2</td>\n",
       "    </tr>\n",
       "    <tr>\n",
       "      <th>217</th>\n",
       "      <td>1442326382</td>\n",
       "      <td>A</td>\n",
       "      <td>209e34a1614d9469fddabc7158003653</td>\n",
       "      <td>07870806f989cab8d7d144e7d19ee9a0</td>\n",
       "      <td>0.0</td>\n",
       "      <td>f3f94fe6582fc6ac052af9a8ff384a2e</td>\n",
       "      <td>7</td>\n",
       "      <td>e6705560085199e9674cd721ee844d0d</td>\n",
       "      <td>1442325784</td>\n",
       "      <td>1.0</td>\n",
       "      <td>3</td>\n",
       "    </tr>\n",
       "    <tr>\n",
       "      <th>218</th>\n",
       "      <td>1442241320</td>\n",
       "      <td>A</td>\n",
       "      <td>974d115d8040e56fcac9638bd33e1731</td>\n",
       "      <td>bdb29739e550cd9bce8d0b2e07b6f33b</td>\n",
       "      <td>0.0</td>\n",
       "      <td>88750b500f3f628d7d85b352f6113736</td>\n",
       "      <td>7</td>\n",
       "      <td>e6705560085199e9674cd721ee844d0d</td>\n",
       "      <td>1442241635</td>\n",
       "      <td>1.0</td>\n",
       "      <td>2</td>\n",
       "    </tr>\n",
       "    <tr>\n",
       "      <th>219</th>\n",
       "      <td>1442273122</td>\n",
       "      <td>A</td>\n",
       "      <td>b3bf2fc20c4646298c05716fbe1aa135</td>\n",
       "      <td>a91a73cc77884c0c594d0a600aa0fe5b</td>\n",
       "      <td>0.0</td>\n",
       "      <td>d41ff061323280cf0cebd9adb7a0755e</td>\n",
       "      <td>5</td>\n",
       "      <td>e6705560085199e9674cd721ee844d0d</td>\n",
       "      <td>1442272267</td>\n",
       "      <td>1.0</td>\n",
       "      <td>5</td>\n",
       "    </tr>\n",
       "    <tr>\n",
       "      <th>220</th>\n",
       "      <td>1442160619</td>\n",
       "      <td>A</td>\n",
       "      <td>485498fd82fb0d82fd89da0b8af280d4</td>\n",
       "      <td>570125290d88158a8e02b7663f09363e</td>\n",
       "      <td>0.0</td>\n",
       "      <td>3f3c902e25018700cacecf38f5414e45</td>\n",
       "      <td>4</td>\n",
       "      <td>e6705560085199e9674cd721ee844d0d</td>\n",
       "      <td>1442160634</td>\n",
       "      <td>1.0</td>\n",
       "      <td>7</td>\n",
       "    </tr>\n",
       "  </tbody>\n",
       "</table>\n",
       "<p>221 rows × 11 columns</p>\n",
       "</div>"
      ],
      "text/plain": [
       "     order_created_datetime brand_name                           rest_id  \\\n",
       "0                1442165828          A  8da96a16838351f6f096d45a4e159f4d   \n",
       "1                1442143129          A  b3bf2fc20c4646298c05716fbe1aa135   \n",
       "2                1442318103          A  2acb4a3db77b139dda1cd6bcbbfd4b8e   \n",
       "3                1442338563          A  525505123c94df09ef5b5614e4afe7b2   \n",
       "4                1442164087          A  680fee36fb26805d3bf7af52cdb44f0f   \n",
       "..                      ...        ...                               ...   \n",
       "216              1442308194          A  a1665b955392495315d4708ab81fc60c   \n",
       "217              1442326382          A  209e34a1614d9469fddabc7158003653   \n",
       "218              1442241320          A  974d115d8040e56fcac9638bd33e1731   \n",
       "219              1442273122          A  b3bf2fc20c4646298c05716fbe1aa135   \n",
       "220              1442160619          A  485498fd82fb0d82fd89da0b8af280d4   \n",
       "\n",
       "                             order_id  first_in_multiorder_flg  \\\n",
       "0    9f8fb710b29202ac3dc36a6712186de4                      0.0   \n",
       "1    d887b9731cf06e5dd77623ef5ad56cd8                      0.0   \n",
       "2    fd0dde82caff2d709ac803c8872fd1e9                      0.0   \n",
       "3    b4e39b3e84e81f1ea34c353896ff6853                      0.0   \n",
       "4    6efbee90330a0bced1f7938a2e209054                      0.0   \n",
       "..                                ...                      ...   \n",
       "216  4914b62257431410a226da5d8945b78b                      0.0   \n",
       "217  07870806f989cab8d7d144e7d19ee9a0                      0.0   \n",
       "218  bdb29739e550cd9bce8d0b2e07b6f33b                      0.0   \n",
       "219  a91a73cc77884c0c594d0a600aa0fe5b                      0.0   \n",
       "220  570125290d88158a8e02b7663f09363e                      0.0   \n",
       "\n",
       "                           courier_id  order_items_cnt  \\\n",
       "0    2644231e976679c41b15a11524a4e530                8   \n",
       "1    8632dc891885aba8e572522dedc7572f                3   \n",
       "2    7e8de661602e618fe8cb16c8b3e02a95                3   \n",
       "3    876e5276f463736bf52fc540664fd02e                5   \n",
       "4    8a2d57b71452eed5c78c3f81ee2999d2                3   \n",
       "..                                ...              ...   \n",
       "216  df212efe543f7f2465672b7609f68159                3   \n",
       "217  f3f94fe6582fc6ac052af9a8ff384a2e                7   \n",
       "218  88750b500f3f628d7d85b352f6113736                7   \n",
       "219  d41ff061323280cf0cebd9adb7a0755e                5   \n",
       "220  3f3c902e25018700cacecf38f5414e45                4   \n",
       "\n",
       "                                 city  order_created_datetime_1  \\\n",
       "0    e6705560085199e9674cd721ee844d0d                1442165669   \n",
       "1    e6705560085199e9674cd721ee844d0d                1442142624   \n",
       "2    e6705560085199e9674cd721ee844d0d                1442317504   \n",
       "3    e6705560085199e9674cd721ee844d0d                1442338075   \n",
       "4    e6705560085199e9674cd721ee844d0d                1442163795   \n",
       "..                                ...                       ...   \n",
       "216  e6705560085199e9674cd721ee844d0d                1442308500   \n",
       "217  e6705560085199e9674cd721ee844d0d                1442325784   \n",
       "218  e6705560085199e9674cd721ee844d0d                1442241635   \n",
       "219  e6705560085199e9674cd721ee844d0d                1442272267   \n",
       "220  e6705560085199e9674cd721ee844d0d                1442160634   \n",
       "\n",
       "     first_in_multiorder_flg_1  order_items_cnt_1  \n",
       "0                          1.0                  8  \n",
       "1                          1.0                  4  \n",
       "2                          1.0                  3  \n",
       "3                          1.0                  3  \n",
       "4                          1.0                  4  \n",
       "..                         ...                ...  \n",
       "216                        1.0                  2  \n",
       "217                        1.0                  3  \n",
       "218                        1.0                  2  \n",
       "219                        1.0                  5  \n",
       "220                        1.0                  7  \n",
       "\n",
       "[221 rows x 11 columns]"
      ]
     },
     "execution_count": 9,
     "metadata": {},
     "output_type": "execute_result"
    }
   ],
   "source": [
    "data_0 = data_0.merge(data_1, how='inner') # соеденим два датасета по принципу общих значений\n",
    "data_0"
   ]
  },
  {
   "cell_type": "markdown",
   "metadata": {},
   "source": [
    "В парах заказов в мультизаказе отличаются только показатели времени заказа и количество позиций в заказе. Можно посмотреть корреляцию времени. И добавить новый столбец с разницой во времени между двумя заказами."
   ]
  },
  {
   "cell_type": "code",
   "execution_count": 10,
   "metadata": {},
   "outputs": [],
   "source": [
    "data_0['difference'] = abs(data_0.order_created_datetime - data_0.order_created_datetime_1) # добавим столбец с разницой во времени"
   ]
  },
  {
   "cell_type": "code",
   "execution_count": 11,
   "metadata": {},
   "outputs": [
    {
     "data": {
      "text/html": [
       "<div>\n",
       "<style scoped>\n",
       "    .dataframe tbody tr th:only-of-type {\n",
       "        vertical-align: middle;\n",
       "    }\n",
       "\n",
       "    .dataframe tbody tr th {\n",
       "        vertical-align: top;\n",
       "    }\n",
       "\n",
       "    .dataframe thead th {\n",
       "        text-align: right;\n",
       "    }\n",
       "</style>\n",
       "<table border=\"1\" class=\"dataframe\">\n",
       "  <thead>\n",
       "    <tr style=\"text-align: right;\">\n",
       "      <th></th>\n",
       "      <th>order_created_datetime</th>\n",
       "      <th>brand_name</th>\n",
       "      <th>rest_id</th>\n",
       "      <th>order_id</th>\n",
       "      <th>first_in_multiorder_flg</th>\n",
       "      <th>courier_id</th>\n",
       "      <th>order_items_cnt</th>\n",
       "      <th>city</th>\n",
       "      <th>order_created_datetime_1</th>\n",
       "      <th>first_in_multiorder_flg_1</th>\n",
       "      <th>order_items_cnt_1</th>\n",
       "      <th>difference</th>\n",
       "    </tr>\n",
       "  </thead>\n",
       "  <tbody>\n",
       "    <tr>\n",
       "      <th>0</th>\n",
       "      <td>1442165828</td>\n",
       "      <td>A</td>\n",
       "      <td>8da96a16838351f6f096d45a4e159f4d</td>\n",
       "      <td>9f8fb710b29202ac3dc36a6712186de4</td>\n",
       "      <td>0.0</td>\n",
       "      <td>2644231e976679c41b15a11524a4e530</td>\n",
       "      <td>8</td>\n",
       "      <td>e6705560085199e9674cd721ee844d0d</td>\n",
       "      <td>1442165669</td>\n",
       "      <td>1.0</td>\n",
       "      <td>8</td>\n",
       "      <td>159</td>\n",
       "    </tr>\n",
       "    <tr>\n",
       "      <th>1</th>\n",
       "      <td>1442143129</td>\n",
       "      <td>A</td>\n",
       "      <td>b3bf2fc20c4646298c05716fbe1aa135</td>\n",
       "      <td>d887b9731cf06e5dd77623ef5ad56cd8</td>\n",
       "      <td>0.0</td>\n",
       "      <td>8632dc891885aba8e572522dedc7572f</td>\n",
       "      <td>3</td>\n",
       "      <td>e6705560085199e9674cd721ee844d0d</td>\n",
       "      <td>1442142624</td>\n",
       "      <td>1.0</td>\n",
       "      <td>4</td>\n",
       "      <td>505</td>\n",
       "    </tr>\n",
       "    <tr>\n",
       "      <th>2</th>\n",
       "      <td>1442318103</td>\n",
       "      <td>A</td>\n",
       "      <td>2acb4a3db77b139dda1cd6bcbbfd4b8e</td>\n",
       "      <td>fd0dde82caff2d709ac803c8872fd1e9</td>\n",
       "      <td>0.0</td>\n",
       "      <td>7e8de661602e618fe8cb16c8b3e02a95</td>\n",
       "      <td>3</td>\n",
       "      <td>e6705560085199e9674cd721ee844d0d</td>\n",
       "      <td>1442317504</td>\n",
       "      <td>1.0</td>\n",
       "      <td>3</td>\n",
       "      <td>599</td>\n",
       "    </tr>\n",
       "    <tr>\n",
       "      <th>3</th>\n",
       "      <td>1442338563</td>\n",
       "      <td>A</td>\n",
       "      <td>525505123c94df09ef5b5614e4afe7b2</td>\n",
       "      <td>b4e39b3e84e81f1ea34c353896ff6853</td>\n",
       "      <td>0.0</td>\n",
       "      <td>876e5276f463736bf52fc540664fd02e</td>\n",
       "      <td>5</td>\n",
       "      <td>e6705560085199e9674cd721ee844d0d</td>\n",
       "      <td>1442338075</td>\n",
       "      <td>1.0</td>\n",
       "      <td>3</td>\n",
       "      <td>488</td>\n",
       "    </tr>\n",
       "    <tr>\n",
       "      <th>4</th>\n",
       "      <td>1442164087</td>\n",
       "      <td>A</td>\n",
       "      <td>680fee36fb26805d3bf7af52cdb44f0f</td>\n",
       "      <td>6efbee90330a0bced1f7938a2e209054</td>\n",
       "      <td>0.0</td>\n",
       "      <td>8a2d57b71452eed5c78c3f81ee2999d2</td>\n",
       "      <td>3</td>\n",
       "      <td>e6705560085199e9674cd721ee844d0d</td>\n",
       "      <td>1442163795</td>\n",
       "      <td>1.0</td>\n",
       "      <td>4</td>\n",
       "      <td>292</td>\n",
       "    </tr>\n",
       "    <tr>\n",
       "      <th>...</th>\n",
       "      <td>...</td>\n",
       "      <td>...</td>\n",
       "      <td>...</td>\n",
       "      <td>...</td>\n",
       "      <td>...</td>\n",
       "      <td>...</td>\n",
       "      <td>...</td>\n",
       "      <td>...</td>\n",
       "      <td>...</td>\n",
       "      <td>...</td>\n",
       "      <td>...</td>\n",
       "      <td>...</td>\n",
       "    </tr>\n",
       "    <tr>\n",
       "      <th>216</th>\n",
       "      <td>1442308194</td>\n",
       "      <td>A</td>\n",
       "      <td>a1665b955392495315d4708ab81fc60c</td>\n",
       "      <td>4914b62257431410a226da5d8945b78b</td>\n",
       "      <td>0.0</td>\n",
       "      <td>df212efe543f7f2465672b7609f68159</td>\n",
       "      <td>3</td>\n",
       "      <td>e6705560085199e9674cd721ee844d0d</td>\n",
       "      <td>1442308500</td>\n",
       "      <td>1.0</td>\n",
       "      <td>2</td>\n",
       "      <td>306</td>\n",
       "    </tr>\n",
       "    <tr>\n",
       "      <th>217</th>\n",
       "      <td>1442326382</td>\n",
       "      <td>A</td>\n",
       "      <td>209e34a1614d9469fddabc7158003653</td>\n",
       "      <td>07870806f989cab8d7d144e7d19ee9a0</td>\n",
       "      <td>0.0</td>\n",
       "      <td>f3f94fe6582fc6ac052af9a8ff384a2e</td>\n",
       "      <td>7</td>\n",
       "      <td>e6705560085199e9674cd721ee844d0d</td>\n",
       "      <td>1442325784</td>\n",
       "      <td>1.0</td>\n",
       "      <td>3</td>\n",
       "      <td>598</td>\n",
       "    </tr>\n",
       "    <tr>\n",
       "      <th>218</th>\n",
       "      <td>1442241320</td>\n",
       "      <td>A</td>\n",
       "      <td>974d115d8040e56fcac9638bd33e1731</td>\n",
       "      <td>bdb29739e550cd9bce8d0b2e07b6f33b</td>\n",
       "      <td>0.0</td>\n",
       "      <td>88750b500f3f628d7d85b352f6113736</td>\n",
       "      <td>7</td>\n",
       "      <td>e6705560085199e9674cd721ee844d0d</td>\n",
       "      <td>1442241635</td>\n",
       "      <td>1.0</td>\n",
       "      <td>2</td>\n",
       "      <td>315</td>\n",
       "    </tr>\n",
       "    <tr>\n",
       "      <th>219</th>\n",
       "      <td>1442273122</td>\n",
       "      <td>A</td>\n",
       "      <td>b3bf2fc20c4646298c05716fbe1aa135</td>\n",
       "      <td>a91a73cc77884c0c594d0a600aa0fe5b</td>\n",
       "      <td>0.0</td>\n",
       "      <td>d41ff061323280cf0cebd9adb7a0755e</td>\n",
       "      <td>5</td>\n",
       "      <td>e6705560085199e9674cd721ee844d0d</td>\n",
       "      <td>1442272267</td>\n",
       "      <td>1.0</td>\n",
       "      <td>5</td>\n",
       "      <td>855</td>\n",
       "    </tr>\n",
       "    <tr>\n",
       "      <th>220</th>\n",
       "      <td>1442160619</td>\n",
       "      <td>A</td>\n",
       "      <td>485498fd82fb0d82fd89da0b8af280d4</td>\n",
       "      <td>570125290d88158a8e02b7663f09363e</td>\n",
       "      <td>0.0</td>\n",
       "      <td>3f3c902e25018700cacecf38f5414e45</td>\n",
       "      <td>4</td>\n",
       "      <td>e6705560085199e9674cd721ee844d0d</td>\n",
       "      <td>1442160634</td>\n",
       "      <td>1.0</td>\n",
       "      <td>7</td>\n",
       "      <td>15</td>\n",
       "    </tr>\n",
       "  </tbody>\n",
       "</table>\n",
       "<p>221 rows × 12 columns</p>\n",
       "</div>"
      ],
      "text/plain": [
       "     order_created_datetime brand_name                           rest_id  \\\n",
       "0                1442165828          A  8da96a16838351f6f096d45a4e159f4d   \n",
       "1                1442143129          A  b3bf2fc20c4646298c05716fbe1aa135   \n",
       "2                1442318103          A  2acb4a3db77b139dda1cd6bcbbfd4b8e   \n",
       "3                1442338563          A  525505123c94df09ef5b5614e4afe7b2   \n",
       "4                1442164087          A  680fee36fb26805d3bf7af52cdb44f0f   \n",
       "..                      ...        ...                               ...   \n",
       "216              1442308194          A  a1665b955392495315d4708ab81fc60c   \n",
       "217              1442326382          A  209e34a1614d9469fddabc7158003653   \n",
       "218              1442241320          A  974d115d8040e56fcac9638bd33e1731   \n",
       "219              1442273122          A  b3bf2fc20c4646298c05716fbe1aa135   \n",
       "220              1442160619          A  485498fd82fb0d82fd89da0b8af280d4   \n",
       "\n",
       "                             order_id  first_in_multiorder_flg  \\\n",
       "0    9f8fb710b29202ac3dc36a6712186de4                      0.0   \n",
       "1    d887b9731cf06e5dd77623ef5ad56cd8                      0.0   \n",
       "2    fd0dde82caff2d709ac803c8872fd1e9                      0.0   \n",
       "3    b4e39b3e84e81f1ea34c353896ff6853                      0.0   \n",
       "4    6efbee90330a0bced1f7938a2e209054                      0.0   \n",
       "..                                ...                      ...   \n",
       "216  4914b62257431410a226da5d8945b78b                      0.0   \n",
       "217  07870806f989cab8d7d144e7d19ee9a0                      0.0   \n",
       "218  bdb29739e550cd9bce8d0b2e07b6f33b                      0.0   \n",
       "219  a91a73cc77884c0c594d0a600aa0fe5b                      0.0   \n",
       "220  570125290d88158a8e02b7663f09363e                      0.0   \n",
       "\n",
       "                           courier_id  order_items_cnt  \\\n",
       "0    2644231e976679c41b15a11524a4e530                8   \n",
       "1    8632dc891885aba8e572522dedc7572f                3   \n",
       "2    7e8de661602e618fe8cb16c8b3e02a95                3   \n",
       "3    876e5276f463736bf52fc540664fd02e                5   \n",
       "4    8a2d57b71452eed5c78c3f81ee2999d2                3   \n",
       "..                                ...              ...   \n",
       "216  df212efe543f7f2465672b7609f68159                3   \n",
       "217  f3f94fe6582fc6ac052af9a8ff384a2e                7   \n",
       "218  88750b500f3f628d7d85b352f6113736                7   \n",
       "219  d41ff061323280cf0cebd9adb7a0755e                5   \n",
       "220  3f3c902e25018700cacecf38f5414e45                4   \n",
       "\n",
       "                                 city  order_created_datetime_1  \\\n",
       "0    e6705560085199e9674cd721ee844d0d                1442165669   \n",
       "1    e6705560085199e9674cd721ee844d0d                1442142624   \n",
       "2    e6705560085199e9674cd721ee844d0d                1442317504   \n",
       "3    e6705560085199e9674cd721ee844d0d                1442338075   \n",
       "4    e6705560085199e9674cd721ee844d0d                1442163795   \n",
       "..                                ...                       ...   \n",
       "216  e6705560085199e9674cd721ee844d0d                1442308500   \n",
       "217  e6705560085199e9674cd721ee844d0d                1442325784   \n",
       "218  e6705560085199e9674cd721ee844d0d                1442241635   \n",
       "219  e6705560085199e9674cd721ee844d0d                1442272267   \n",
       "220  e6705560085199e9674cd721ee844d0d                1442160634   \n",
       "\n",
       "     first_in_multiorder_flg_1  order_items_cnt_1  difference  \n",
       "0                          1.0                  8         159  \n",
       "1                          1.0                  4         505  \n",
       "2                          1.0                  3         599  \n",
       "3                          1.0                  3         488  \n",
       "4                          1.0                  4         292  \n",
       "..                         ...                ...         ...  \n",
       "216                        1.0                  2         306  \n",
       "217                        1.0                  3         598  \n",
       "218                        1.0                  2         315  \n",
       "219                        1.0                  5         855  \n",
       "220                        1.0                  7          15  \n",
       "\n",
       "[221 rows x 12 columns]"
      ]
     },
     "execution_count": 11,
     "metadata": {},
     "output_type": "execute_result"
    }
   ],
   "source": [
    "data_0"
   ]
  },
  {
   "cell_type": "code",
   "execution_count": 12,
   "metadata": {
    "scrolled": true
   },
   "outputs": [
    {
     "data": {
      "text/html": [
       "<div>\n",
       "<style scoped>\n",
       "    .dataframe tbody tr th:only-of-type {\n",
       "        vertical-align: middle;\n",
       "    }\n",
       "\n",
       "    .dataframe tbody tr th {\n",
       "        vertical-align: top;\n",
       "    }\n",
       "\n",
       "    .dataframe thead th {\n",
       "        text-align: right;\n",
       "    }\n",
       "</style>\n",
       "<table border=\"1\" class=\"dataframe\">\n",
       "  <thead>\n",
       "    <tr style=\"text-align: right;\">\n",
       "      <th></th>\n",
       "      <th>order_created_datetime</th>\n",
       "      <th>first_in_multiorder_flg</th>\n",
       "      <th>order_items_cnt</th>\n",
       "      <th>order_created_datetime_1</th>\n",
       "      <th>first_in_multiorder_flg_1</th>\n",
       "      <th>order_items_cnt_1</th>\n",
       "      <th>difference</th>\n",
       "    </tr>\n",
       "  </thead>\n",
       "  <tbody>\n",
       "    <tr>\n",
       "      <th>order_created_datetime</th>\n",
       "      <td>1.000000</td>\n",
       "      <td>NaN</td>\n",
       "      <td>-0.112357</td>\n",
       "      <td>0.999616</td>\n",
       "      <td>NaN</td>\n",
       "      <td>-0.019500</td>\n",
       "      <td>-0.108581</td>\n",
       "    </tr>\n",
       "    <tr>\n",
       "      <th>first_in_multiorder_flg</th>\n",
       "      <td>NaN</td>\n",
       "      <td>NaN</td>\n",
       "      <td>NaN</td>\n",
       "      <td>NaN</td>\n",
       "      <td>NaN</td>\n",
       "      <td>NaN</td>\n",
       "      <td>NaN</td>\n",
       "    </tr>\n",
       "    <tr>\n",
       "      <th>order_items_cnt</th>\n",
       "      <td>-0.112357</td>\n",
       "      <td>NaN</td>\n",
       "      <td>1.000000</td>\n",
       "      <td>-0.111420</td>\n",
       "      <td>NaN</td>\n",
       "      <td>0.024351</td>\n",
       "      <td>0.038925</td>\n",
       "    </tr>\n",
       "    <tr>\n",
       "      <th>order_created_datetime_1</th>\n",
       "      <td>0.999616</td>\n",
       "      <td>NaN</td>\n",
       "      <td>-0.111420</td>\n",
       "      <td>1.000000</td>\n",
       "      <td>NaN</td>\n",
       "      <td>-0.021875</td>\n",
       "      <td>-0.082326</td>\n",
       "    </tr>\n",
       "    <tr>\n",
       "      <th>first_in_multiorder_flg_1</th>\n",
       "      <td>NaN</td>\n",
       "      <td>NaN</td>\n",
       "      <td>NaN</td>\n",
       "      <td>NaN</td>\n",
       "      <td>NaN</td>\n",
       "      <td>NaN</td>\n",
       "      <td>NaN</td>\n",
       "    </tr>\n",
       "    <tr>\n",
       "      <th>order_items_cnt_1</th>\n",
       "      <td>-0.019500</td>\n",
       "      <td>NaN</td>\n",
       "      <td>0.024351</td>\n",
       "      <td>-0.021875</td>\n",
       "      <td>NaN</td>\n",
       "      <td>1.000000</td>\n",
       "      <td>-0.016769</td>\n",
       "    </tr>\n",
       "    <tr>\n",
       "      <th>difference</th>\n",
       "      <td>-0.108581</td>\n",
       "      <td>NaN</td>\n",
       "      <td>0.038925</td>\n",
       "      <td>-0.082326</td>\n",
       "      <td>NaN</td>\n",
       "      <td>-0.016769</td>\n",
       "      <td>1.000000</td>\n",
       "    </tr>\n",
       "  </tbody>\n",
       "</table>\n",
       "</div>"
      ],
      "text/plain": [
       "                           order_created_datetime  first_in_multiorder_flg  \\\n",
       "order_created_datetime                   1.000000                      NaN   \n",
       "first_in_multiorder_flg                       NaN                      NaN   \n",
       "order_items_cnt                         -0.112357                      NaN   \n",
       "order_created_datetime_1                 0.999616                      NaN   \n",
       "first_in_multiorder_flg_1                     NaN                      NaN   \n",
       "order_items_cnt_1                       -0.019500                      NaN   \n",
       "difference                              -0.108581                      NaN   \n",
       "\n",
       "                           order_items_cnt  order_created_datetime_1  \\\n",
       "order_created_datetime           -0.112357                  0.999616   \n",
       "first_in_multiorder_flg                NaN                       NaN   \n",
       "order_items_cnt                   1.000000                 -0.111420   \n",
       "order_created_datetime_1         -0.111420                  1.000000   \n",
       "first_in_multiorder_flg_1              NaN                       NaN   \n",
       "order_items_cnt_1                 0.024351                 -0.021875   \n",
       "difference                        0.038925                 -0.082326   \n",
       "\n",
       "                           first_in_multiorder_flg_1  order_items_cnt_1  \\\n",
       "order_created_datetime                           NaN          -0.019500   \n",
       "first_in_multiorder_flg                          NaN                NaN   \n",
       "order_items_cnt                                  NaN           0.024351   \n",
       "order_created_datetime_1                         NaN          -0.021875   \n",
       "first_in_multiorder_flg_1                        NaN                NaN   \n",
       "order_items_cnt_1                                NaN           1.000000   \n",
       "difference                                       NaN          -0.016769   \n",
       "\n",
       "                           difference  \n",
       "order_created_datetime      -0.108581  \n",
       "first_in_multiorder_flg           NaN  \n",
       "order_items_cnt              0.038925  \n",
       "order_created_datetime_1    -0.082326  \n",
       "first_in_multiorder_flg_1         NaN  \n",
       "order_items_cnt_1           -0.016769  \n",
       "difference                   1.000000  "
      ]
     },
     "execution_count": 12,
     "metadata": {},
     "output_type": "execute_result"
    }
   ],
   "source": [
    "data_0.corr() # посмотрим корреляцию"
   ]
  },
  {
   "cell_type": "code",
   "execution_count": 13,
   "metadata": {},
   "outputs": [
    {
     "data": {
      "text/plain": [
       "31188"
      ]
     },
     "execution_count": 13,
     "metadata": {},
     "output_type": "execute_result"
    }
   ],
   "source": [
    "data_0.difference.max() # посмотрим максимальную разницу во времени"
   ]
  },
  {
   "cell_type": "markdown",
   "metadata": {},
   "source": [
    "Подозрительно большая. Построим график."
   ]
  },
  {
   "cell_type": "code",
   "execution_count": 14,
   "metadata": {},
   "outputs": [
    {
     "data": {
      "text/plain": [
       "<matplotlib.axes._subplots.AxesSubplot at 0x15eeb16f9a0>"
      ]
     },
     "execution_count": 14,
     "metadata": {},
     "output_type": "execute_result"
    },
    {
     "data": {
      "image/png": "[encoded data removed]",
      "text/plain": [
       "<Figure size 432x288 with 1 Axes>"
      ]
     },
     "metadata": {
      "needs_background": "light"
     },
     "output_type": "display_data"
    }
   ],
   "source": [
    "data_0.difference.hist(bins=1000)"
   ]
  },
  {
   "cell_type": "markdown",
   "metadata": {},
   "source": [
    "Очевидно значение 31188 является выбросом. "
   ]
  },
  {
   "cell_type": "code",
   "execution_count": 15,
   "metadata": {},
   "outputs": [],
   "source": [
    "data_0 = data_0.query('difference != 31188') # удалим выброс"
   ]
  },
  {
   "cell_type": "code",
   "execution_count": 16,
   "metadata": {},
   "outputs": [
    {
     "data": {
      "text/plain": [
       "<matplotlib.axes._subplots.AxesSubplot at 0x15eeb0b9e80>"
      ]
     },
     "execution_count": 16,
     "metadata": {},
     "output_type": "execute_result"
    },
    {
     "data": {
      "image/png": "[encoded data removed]",
      "text/plain": [
       "<Figure size 432x288 with 1 Axes>"
      ]
     },
     "metadata": {
      "needs_background": "light"
     },
     "output_type": "display_data"
    }
   ],
   "source": [
    "data_0.difference.hist(bins=100) # построим график еще раз"
   ]
  },
  {
   "cell_type": "code",
   "execution_count": 17,
   "metadata": {},
   "outputs": [
    {
     "name": "stdout",
     "output_type": "stream",
     "text": [
      "25-й перцентиль: 175.25,\n",
      "75-й перцентиль: 578.25,\n",
      "IQR: 403.0,\n",
      "Границы выбросов: [0, 1182.75]\n"
     ]
    }
   ],
   "source": [
    "# посмотрим границы выбросов \n",
    "perc25 = data_0['difference'].quantile(0.25)\n",
    "perc75 = data_0['difference'].quantile(0.75)\n",
    "IQR = perc75 - perc25\n",
    "difference_limit = perc75 + 1.5*IQR\n",
    "print(f'25-й перцентиль: {perc25},\\n\\\n",
    "75-й перцентиль: {perc75},\\n\\\n",
    "IQR: {IQR},\\n\\\n",
    "Границы выбросов: [0, {difference_limit}]')\n"
   ]
  },
  {
   "cell_type": "code",
   "execution_count": 18,
   "metadata": {},
   "outputs": [
    {
     "data": {
      "text/html": [
       "<div>\n",
       "<style scoped>\n",
       "    .dataframe tbody tr th:only-of-type {\n",
       "        vertical-align: middle;\n",
       "    }\n",
       "\n",
       "    .dataframe tbody tr th {\n",
       "        vertical-align: top;\n",
       "    }\n",
       "\n",
       "    .dataframe thead th {\n",
       "        text-align: right;\n",
       "    }\n",
       "</style>\n",
       "<table border=\"1\" class=\"dataframe\">\n",
       "  <thead>\n",
       "    <tr style=\"text-align: right;\">\n",
       "      <th></th>\n",
       "      <th>order_created_datetime</th>\n",
       "      <th>first_in_multiorder_flg</th>\n",
       "      <th>order_items_cnt</th>\n",
       "      <th>order_created_datetime_1</th>\n",
       "      <th>first_in_multiorder_flg_1</th>\n",
       "      <th>order_items_cnt_1</th>\n",
       "      <th>difference</th>\n",
       "    </tr>\n",
       "  </thead>\n",
       "  <tbody>\n",
       "    <tr>\n",
       "      <th>order_created_datetime</th>\n",
       "      <td>1.000000</td>\n",
       "      <td>NaN</td>\n",
       "      <td>-0.108329</td>\n",
       "      <td>0.999980</td>\n",
       "      <td>NaN</td>\n",
       "      <td>-0.023876</td>\n",
       "      <td>-0.033520</td>\n",
       "    </tr>\n",
       "    <tr>\n",
       "      <th>first_in_multiorder_flg</th>\n",
       "      <td>NaN</td>\n",
       "      <td>NaN</td>\n",
       "      <td>NaN</td>\n",
       "      <td>NaN</td>\n",
       "      <td>NaN</td>\n",
       "      <td>NaN</td>\n",
       "      <td>NaN</td>\n",
       "    </tr>\n",
       "    <tr>\n",
       "      <th>order_items_cnt</th>\n",
       "      <td>-0.108329</td>\n",
       "      <td>NaN</td>\n",
       "      <td>1.000000</td>\n",
       "      <td>-0.108340</td>\n",
       "      <td>NaN</td>\n",
       "      <td>0.026222</td>\n",
       "      <td>-0.038605</td>\n",
       "    </tr>\n",
       "    <tr>\n",
       "      <th>order_created_datetime_1</th>\n",
       "      <td>0.999980</td>\n",
       "      <td>NaN</td>\n",
       "      <td>-0.108340</td>\n",
       "      <td>1.000000</td>\n",
       "      <td>NaN</td>\n",
       "      <td>-0.025114</td>\n",
       "      <td>-0.035558</td>\n",
       "    </tr>\n",
       "    <tr>\n",
       "      <th>first_in_multiorder_flg_1</th>\n",
       "      <td>NaN</td>\n",
       "      <td>NaN</td>\n",
       "      <td>NaN</td>\n",
       "      <td>NaN</td>\n",
       "      <td>NaN</td>\n",
       "      <td>NaN</td>\n",
       "      <td>NaN</td>\n",
       "    </tr>\n",
       "    <tr>\n",
       "      <th>order_items_cnt_1</th>\n",
       "      <td>-0.023876</td>\n",
       "      <td>NaN</td>\n",
       "      <td>0.026222</td>\n",
       "      <td>-0.025114</td>\n",
       "      <td>NaN</td>\n",
       "      <td>1.000000</td>\n",
       "      <td>0.155006</td>\n",
       "    </tr>\n",
       "    <tr>\n",
       "      <th>difference</th>\n",
       "      <td>-0.033520</td>\n",
       "      <td>NaN</td>\n",
       "      <td>-0.038605</td>\n",
       "      <td>-0.035558</td>\n",
       "      <td>NaN</td>\n",
       "      <td>0.155006</td>\n",
       "      <td>1.000000</td>\n",
       "    </tr>\n",
       "  </tbody>\n",
       "</table>\n",
       "</div>"
      ],
      "text/plain": [
       "                           order_created_datetime  first_in_multiorder_flg  \\\n",
       "order_created_datetime                   1.000000                      NaN   \n",
       "first_in_multiorder_flg                       NaN                      NaN   \n",
       "order_items_cnt                         -0.108329                      NaN   \n",
       "order_created_datetime_1                 0.999980                      NaN   \n",
       "first_in_multiorder_flg_1                     NaN                      NaN   \n",
       "order_items_cnt_1                       -0.023876                      NaN   \n",
       "difference                              -0.033520                      NaN   \n",
       "\n",
       "                           order_items_cnt  order_created_datetime_1  \\\n",
       "order_created_datetime           -0.108329                  0.999980   \n",
       "first_in_multiorder_flg                NaN                       NaN   \n",
       "order_items_cnt                   1.000000                 -0.108340   \n",
       "order_created_datetime_1         -0.108340                  1.000000   \n",
       "first_in_multiorder_flg_1              NaN                       NaN   \n",
       "order_items_cnt_1                 0.026222                 -0.025114   \n",
       "difference                       -0.038605                 -0.035558   \n",
       "\n",
       "                           first_in_multiorder_flg_1  order_items_cnt_1  \\\n",
       "order_created_datetime                           NaN          -0.023876   \n",
       "first_in_multiorder_flg                          NaN                NaN   \n",
       "order_items_cnt                                  NaN           0.026222   \n",
       "order_created_datetime_1                         NaN          -0.025114   \n",
       "first_in_multiorder_flg_1                        NaN                NaN   \n",
       "order_items_cnt_1                                NaN           1.000000   \n",
       "difference                                       NaN           0.155006   \n",
       "\n",
       "                           difference  \n",
       "order_created_datetime      -0.033520  \n",
       "first_in_multiorder_flg           NaN  \n",
       "order_items_cnt             -0.038605  \n",
       "order_created_datetime_1    -0.035558  \n",
       "first_in_multiorder_flg_1         NaN  \n",
       "order_items_cnt_1            0.155006  \n",
       "difference                   1.000000  "
      ]
     },
     "execution_count": 18,
     "metadata": {},
     "output_type": "execute_result"
    }
   ],
   "source": [
    "data_0.corr()"
   ]
  },
  {
   "cell_type": "markdown",
   "metadata": {},
   "source": [
    "Наше предположение: заказы будут объеденены в мультизаказ если выполнены два условия: 1. одинаковый ресторан, 2. близкое время заказа: если корреляция примерно равна 0.999616 (пока не точно) или если разница во времени меньше самой большой разницы во времени в выборке А - пока не определились со значением)"
   ]
  },
  {
   "cell_type": "code",
   "execution_count": 19,
   "metadata": {
    "scrolled": false
   },
   "outputs": [
    {
     "data": {
      "text/plain": [
       "<matplotlib.axes._subplots.AxesSubplot at 0x15eea318280>"
      ]
     },
     "execution_count": 19,
     "metadata": {},
     "output_type": "execute_result"
    },
    {
     "data": {
      "image/png": "[encoded data removed]",
      "text/plain": [
       "<Figure size 432x288 with 1 Axes>"
      ]
     },
     "metadata": {
      "needs_background": "light"
     },
     "output_type": "display_data"
    }
   ],
   "source": [
    "data_raw.order_created_datetime.hist(bins=100) # график распределения количества заказов по времени (вдруг пригодится)"
   ]
  },
  {
   "cell_type": "markdown",
   "metadata": {},
   "source": [
    "### Вычислим долю мультизаказов"
   ]
  },
  {
   "cell_type": "code",
   "execution_count": 20,
   "metadata": {
    "scrolled": true
   },
   "outputs": [
    {
     "data": {
      "text/plain": [
       "0.046"
      ]
     },
     "execution_count": 20,
     "metadata": {},
     "output_type": "execute_result"
    }
   ],
   "source": [
    "# доля мультизаказов = кол-во заказов, которые доставлялись вместе с другими / общее количество заказов\n",
    "# Набор данных data_0 содержит пары объединенных заказов, таким образом, чтобы получить количество объединенных\n",
    "# заказов, мы умножаем на 2.\n",
    "round((data_0.order_id.count() * 2)/ dataA_raw.order_id.count(),3) "
   ]
  },
  {
   "cell_type": "code",
   "execution_count": 21,
   "metadata": {},
   "outputs": [],
   "source": [
    "# Таким образом, процент объединенных заказов для выборки A = ~4,6 %"
   ]
  },
  {
   "cell_type": "markdown",
   "metadata": {},
   "source": [
    "# Рассчет модели"
   ]
  },
  {
   "cell_type": "code",
   "execution_count": 22,
   "metadata": {},
   "outputs": [],
   "source": [
    "# Для удобства сравнения расширим dataset dataA_raw столбцом difference\n",
    "\n",
    "def fz(x):\n",
    "    for o in x.order_id:\n",
    "        t1 = x[x.batched_with_order_id == o]\n",
    "        if t1.order_created_datetime.size == 0:\n",
    "            continue\n",
    "        t1 = t1.order_created_datetime.item()\n",
    "        t2 = x[x.order_id == o].order_created_datetime.item()\n",
    "        x.loc[x.order_id == o, 'difference'] = abs(t1 - t2)\n",
    "    return x\n",
    "\n",
    "dataA_with_dif = dataA_raw.groupby(['rest_id']).apply(fz)"
   ]
  },
  {
   "cell_type": "markdown",
   "metadata": {},
   "source": [
    "### Посмотрим, что из себя представляет датасет"
   ]
  },
  {
   "cell_type": "code",
   "execution_count": 23,
   "metadata": {},
   "outputs": [
    {
     "name": "stdout",
     "output_type": "stream",
     "text": [
      "<class 'pandas.core.frame.DataFrame'>\n",
      "Int64Index: 9629 entries, 1 to 66463\n",
      "Data columns (total 10 columns):\n",
      " #   Column                   Non-Null Count  Dtype  \n",
      "---  ------                   --------------  -----  \n",
      " 0   order_created_datetime   9629 non-null   int64  \n",
      " 1   brand_name               9629 non-null   object \n",
      " 2   rest_id                  9629 non-null   object \n",
      " 3   batched_with_order_id    442 non-null    object \n",
      " 4   order_id                 9629 non-null   object \n",
      " 5   first_in_multiorder_flg  442 non-null    float64\n",
      " 6   courier_id               9437 non-null   object \n",
      " 7   order_items_cnt          9629 non-null   int64  \n",
      " 8   city                     9629 non-null   object \n",
      " 9   difference               442 non-null    float64\n",
      "dtypes: float64(2), int64(2), object(6)\n",
      "memory usage: 827.5+ KB\n"
     ]
    }
   ],
   "source": [
    "dataA_with_dif.info()"
   ]
  },
  {
   "cell_type": "code",
   "execution_count": 24,
   "metadata": {
    "scrolled": true
   },
   "outputs": [
    {
     "name": "stdout",
     "output_type": "stream",
     "text": [
      "незаполненные значения:\n",
      "order_created_datetime        0\n",
      "brand_name                    0\n",
      "rest_id                       0\n",
      "batched_with_order_id      9187\n",
      "order_id                      0\n",
      "first_in_multiorder_flg    9187\n",
      "courier_id                  192\n",
      "order_items_cnt               0\n",
      "city                          0\n",
      "difference                 9187\n",
      "dtype: int64\n"
     ]
    }
   ],
   "source": [
    "print(f'незаполненные значения:\\n{dataA_with_dif.isnull().sum()}')"
   ]
  },
  {
   "cell_type": "markdown",
   "metadata": {},
   "source": [
    "### Посмотрим распределение мультизаказов с шагом в 60 секунд"
   ]
  },
  {
   "cell_type": "code",
   "execution_count": 25,
   "metadata": {
    "scrolled": true
   },
   "outputs": [
    {
     "data": {
      "text/plain": [
       "(0, 60]         42\n",
       "(60, 120]       32\n",
       "(120, 180]      42\n",
       "(180, 240]      30\n",
       "(240, 300]      42\n",
       "(300, 360]      30\n",
       "(360, 420]      32\n",
       "(420, 480]      28\n",
       "(480, 540]      30\n",
       "(540, 600]      30\n",
       "(600, 660]      22\n",
       "(660, 720]      14\n",
       "(720, 780]      12\n",
       "(780, 840]      18\n",
       "(840, 900]       6\n",
       "(900, 960]       6\n",
       "(960, 1020]      2\n",
       "(1020, 1080]     6\n",
       "(1080, 1140]     2\n",
       "Name: difference, dtype: int64"
      ]
     },
     "execution_count": 25,
     "metadata": {},
     "output_type": "execute_result"
    }
   ],
   "source": [
    "time_range = range(0, int(difference_limit), 60)\n",
    "pd.cut(dataA_with_dif.difference, list(time_range)).value_counts().sort_index()"
   ]
  },
  {
   "cell_type": "markdown",
   "metadata": {},
   "source": [
    "### Посмотрим, как распределялось количество позиций в мультизаказах"
   ]
  },
  {
   "cell_type": "code",
   "execution_count": 26,
   "metadata": {
    "scrolled": false
   },
   "outputs": [
    {
     "data": {
      "text/plain": [
       "(1, 2]      58\n",
       "(2, 3]      96\n",
       "(3, 4]      79\n",
       "(4, 5]      59\n",
       "(5, 6]      37\n",
       "(6, 7]      35\n",
       "(7, 8]      20\n",
       "(8, 9]      11\n",
       "(9, 10]      8\n",
       "(10, 11]     4\n",
       "(11, 12]     5\n",
       "(12, 13]     5\n",
       "(13, 14]     1\n",
       "(14, 15]     4\n",
       "(15, 16]     1\n",
       "(16, 17]     0\n",
       "(17, 18]     0\n",
       "(18, 19]     0\n",
       "(19, 20]     0\n",
       "(20, 21]     0\n",
       "(21, 22]     1\n",
       "(22, 23]     0\n",
       "(23, 24]     0\n",
       "(24, 25]     0\n",
       "(25, 26]     0\n",
       "(26, 27]     0\n",
       "(27, 28]     0\n",
       "(28, 29]     0\n",
       "(29, 30]     0\n",
       "(30, 31]     0\n",
       "(31, 32]     0\n",
       "(32, 33]     0\n",
       "(33, 34]     0\n",
       "Name: order_items_cnt, dtype: int64"
      ]
     },
     "execution_count": 26,
     "metadata": {},
     "output_type": "execute_result"
    }
   ],
   "source": [
    "items_range = range(1, int(dataA_with_dif.order_items_cnt.max()), 1)\n",
    "pd.cut(dataA_with_dif[dataA_with_dif.difference.notna()].order_items_cnt, list(items_range)).value_counts().sort_index()"
   ]
  },
  {
   "cell_type": "markdown",
   "metadata": {},
   "source": [
    "### Посмотрим на курьеров"
   ]
  },
  {
   "cell_type": "code",
   "execution_count": 27,
   "metadata": {
    "scrolled": false
   },
   "outputs": [
    {
     "data": {
      "text/plain": [
       "5b17547f825d9cf35c7853621dd842f8    643\n",
       "d016782f2092ef2b2f943e736ececced    136\n",
       "0a59239d252c0b6b98696e859b8c1c8e    128\n",
       "0738b92dbb0db993c16a32321000f371    120\n",
       "d1acfd6dbf4eb1015769d862d511dd07     99\n",
       "                                   ... \n",
       "0453c6c70f86b11c570ca6d1d53ce702      1\n",
       "a03bfe8e052f8cfb5dc2b01bf2168c79      1\n",
       "2941020aad2a09dab29f2613359bcb6f      1\n",
       "7909115ce8953eccfd9bdb1a511cef04      1\n",
       "f1cee6c3778c8f58ed83641fedca0db0      1\n",
       "Name: courier_id, Length: 4034, dtype: int64"
      ]
     },
     "execution_count": 27,
     "metadata": {},
     "output_type": "execute_result"
    }
   ],
   "source": [
    "dataA_raw.courier_id.value_counts()"
   ]
  },
  {
   "cell_type": "markdown",
   "metadata": {},
   "source": [
    "Курьер с id 5b17547f825d9cf35c7853621dd842f8 явно выделяется, хотелось бы удалить, но он занимает достаточно значимую часть в объеме набора данных А:"
   ]
  },
  {
   "cell_type": "code",
   "execution_count": 28,
   "metadata": {
    "scrolled": true
   },
   "outputs": [
    {
     "data": {
      "text/plain": [
       "14.975116640746501"
      ]
     },
     "execution_count": 28,
     "metadata": {},
     "output_type": "execute_result"
    }
   ],
   "source": [
    "#dataA_raw = dataA_raw.query('courier_id != \"5b17547f825d9cf35c7853621dd842f8\"') \n",
    "dataA_raw.order_id.count() / dataA_raw[dataA_raw.courier_id == '5b17547f825d9cf35c7853621dd842f8'].order_id.count()\n",
    "\n",
    "# Почти 15 процентов"
   ]
  },
  {
   "cell_type": "code",
   "execution_count": 29,
   "metadata": {},
   "outputs": [],
   "source": [
    "# Попытка проанализировать соотношение обычных и мульти заказов у курьеров. "
   ]
  },
  {
   "cell_type": "code",
   "execution_count": 30,
   "metadata": {
    "scrolled": true
   },
   "outputs": [
    {
     "name": "stdout",
     "output_type": "stream",
     "text": [
      "               counts_single  counts_multi\n",
      "counts_single       1.000000     -0.006415\n",
      "counts_multi       -0.006415      1.000000\n"
     ]
    }
   ],
   "source": [
    "courier_single = dataA_raw[~(dataA_raw.batched_with_order_id.notna())].groupby('courier_id').order_id.count().sort_values().reset_index(name='counts_single')\n",
    "courier_multi = dataA_raw[dataA_raw.batched_with_order_id.notna()].groupby('courier_id').order_id.count().sort_values().reset_index(name='counts_multi')\n",
    "courier_data = courier_single.merge(courier_multi, how='outer') # соеденим два датасета по принципу общих значений\n",
    "print(courier_data.corr())"
   ]
  },
  {
   "cell_type": "markdown",
   "metadata": {},
   "source": [
    "Определенно, есть какой-то фактор в зависимости от времени между заказами, но мы его не нашли. Попытка сымитировать его - ниже. Нормально отладить его тоже не успели."
   ]
  },
  {
   "cell_type": "code",
   "execution_count": 143,
   "metadata": {},
   "outputs": [],
   "source": [
    "import random\n",
    "\n",
    "def probability_factor(limit):\n",
    "    step = 60\n",
    "    total = int(difference_limit / step)\n",
    "    zeroes = int(limit / step) + 2\n",
    "    \n",
    "    listofones = [1] * total\n",
    "    \n",
    "    for i in range(0, zeroes):\n",
    "        if i < len(listofones):\n",
    "            listofones[i] = 0\n",
    "        \n",
    "    z = random.randint(0, total - 1)\n",
    "    \n",
    "    return listofones[z] \n"
   ]
  },
  {
   "cell_type": "code",
   "execution_count": 162,
   "metadata": {},
   "outputs": [],
   "source": [
    "def rest_analyzer(x):\n",
    "    skip_list = []\n",
    "\n",
    "    #for l in time_range:\n",
    "    # Перебираем все заказы одного ресторана\n",
    "    for order_id in x.order_id:\n",
    "\n",
    "        # Если пара для мультизаказа сформированы, то эта пара будет добавлена в скип-лист\n",
    "        if order_id in skip_list:\n",
    "            continue\n",
    "\n",
    "        # Находим дату создания исследуемого заказа\n",
    "        order_time = x[x.order_id == order_id].order_created_datetime.item()\n",
    "\n",
    "        # Находим город исследуемого заказа\n",
    "        city = x[x.order_id == order_id].city.item()\n",
    "\n",
    "        candidates_df = x[(~(x.order_id.isin(skip_list))\n",
    "                & ~(x.order_id == order_id)\n",
    "               & (x.city == city))]    \n",
    "\n",
    "        # Поиск минимального модуля разницы во времени создания заказа\n",
    "        t= np.abs(candidates_df.order_created_datetime.values - order_time)\n",
    "        if t.size == 0:\n",
    "            continue\n",
    "        min_difference = np.amin(t, axis=0)\n",
    "\n",
    "        if (min_difference < int(difference_limit)):\n",
    "            candidate_id = candidates_df.iloc[np.argmin(t, axis=0)].order_id\n",
    "            #if (probability_factor(l) == 0):\n",
    "            #    skip_list.append(order_id)\n",
    "            #    continue\n",
    "\n",
    "            x.loc[x.order_id == order_id, 'candidate'] = candidate_id\n",
    "            x.loc[x.order_id == order_id, 'difference'] = min_difference\n",
    "            x.loc[x.order_id == candidate_id, 'candidate'] = order_id\n",
    "            x.loc[x.order_id == candidate_id, 'difference'] = min_difference\n",
    "            skip_list.append(candidate_id)\n",
    "            skip_list.append(order_id)\n",
    "    return x\n",
    "\n",
    "def check_multiorder(ds):\n",
    "    d = ds.sort_values('order_created_datetime')\n",
    "    d['candidate'] = np.nan\n",
    "    d['difference'] = np.nan\n",
    "    return d.groupby(['rest_id']).apply(rest_analyzer)  "
   ]
  },
  {
   "cell_type": "code",
   "execution_count": 164,
   "metadata": {
    "scrolled": false
   },
   "outputs": [
    {
     "name": "stdout",
     "output_type": "stream",
     "text": [
      "Wall time: 26.3 s\n"
     ]
    }
   ],
   "source": [
    "%%time\n",
    "dataA = dataA_raw.drop(columns=['batched_with_order_id', 'first_in_multiorder_flg'])\n",
    "research_dataA = check_multiorder(dataA.dropna())"
   ]
  },
  {
   "cell_type": "code",
   "execution_count": 148,
   "metadata": {
    "scrolled": true
   },
   "outputs": [
    {
     "data": {
      "text/html": [
       "<div>\n",
       "<style scoped>\n",
       "    .dataframe tbody tr th:only-of-type {\n",
       "        vertical-align: middle;\n",
       "    }\n",
       "\n",
       "    .dataframe tbody tr th {\n",
       "        vertical-align: top;\n",
       "    }\n",
       "\n",
       "    .dataframe thead th {\n",
       "        text-align: right;\n",
       "    }\n",
       "</style>\n",
       "<table border=\"1\" class=\"dataframe\">\n",
       "  <thead>\n",
       "    <tr style=\"text-align: right;\">\n",
       "      <th></th>\n",
       "      <th>order_created_datetime</th>\n",
       "      <th>brand_name</th>\n",
       "      <th>rest_id</th>\n",
       "      <th>order_id</th>\n",
       "      <th>courier_id</th>\n",
       "      <th>order_items_cnt</th>\n",
       "      <th>city</th>\n",
       "      <th>candidate</th>\n",
       "      <th>difference</th>\n",
       "    </tr>\n",
       "  </thead>\n",
       "  <tbody>\n",
       "    <tr>\n",
       "      <th>64367</th>\n",
       "      <td>1442102405</td>\n",
       "      <td>A</td>\n",
       "      <td>d1e66c75e8deec66a0aa08aefa5736aa</td>\n",
       "      <td>ffc6ecf37c8391821bda9111320f299c</td>\n",
       "      <td>d016782f2092ef2b2f943e736ececced</td>\n",
       "      <td>2</td>\n",
       "      <td>e6705560085199e9674cd721ee844d0d</td>\n",
       "      <td>3e293d204168757552ebd7b62ea38889</td>\n",
       "      <td>34.0</td>\n",
       "    </tr>\n",
       "    <tr>\n",
       "      <th>58676</th>\n",
       "      <td>1442102413</td>\n",
       "      <td>A</td>\n",
       "      <td>39baa0eae83853d736e398093239dcd5</td>\n",
       "      <td>49d061c7882d839710443d8ac8108d7e</td>\n",
       "      <td>5b17547f825d9cf35c7853621dd842f8</td>\n",
       "      <td>7</td>\n",
       "      <td>e6705560085199e9674cd721ee844d0d</td>\n",
       "      <td>09e0e13f08f130198a21ad41cb2124cc</td>\n",
       "      <td>569.0</td>\n",
       "    </tr>\n",
       "    <tr>\n",
       "      <th>11760</th>\n",
       "      <td>1442102439</td>\n",
       "      <td>A</td>\n",
       "      <td>d1e66c75e8deec66a0aa08aefa5736aa</td>\n",
       "      <td>3e293d204168757552ebd7b62ea38889</td>\n",
       "      <td>d016782f2092ef2b2f943e736ececced</td>\n",
       "      <td>10</td>\n",
       "      <td>e6705560085199e9674cd721ee844d0d</td>\n",
       "      <td>ffc6ecf37c8391821bda9111320f299c</td>\n",
       "      <td>34.0</td>\n",
       "    </tr>\n",
       "    <tr>\n",
       "      <th>61748</th>\n",
       "      <td>1442102459</td>\n",
       "      <td>A</td>\n",
       "      <td>7fc42db5411a27043847b4ab8aa7a5a1</td>\n",
       "      <td>b4bd74ec8d2f492f305eb70c90c3fce5</td>\n",
       "      <td>d016782f2092ef2b2f943e736ececced</td>\n",
       "      <td>13</td>\n",
       "      <td>e6705560085199e9674cd721ee844d0d</td>\n",
       "      <td>NaN</td>\n",
       "      <td>NaN</td>\n",
       "    </tr>\n",
       "    <tr>\n",
       "      <th>56702</th>\n",
       "      <td>1442102504</td>\n",
       "      <td>A</td>\n",
       "      <td>3b83cec768ee9456b59a8051ead1c6fb</td>\n",
       "      <td>e656c891f5ee182b266b7def80ad70ae</td>\n",
       "      <td>d016782f2092ef2b2f943e736ececced</td>\n",
       "      <td>6</td>\n",
       "      <td>e6705560085199e9674cd721ee844d0d</td>\n",
       "      <td>NaN</td>\n",
       "      <td>NaN</td>\n",
       "    </tr>\n",
       "    <tr>\n",
       "      <th>...</th>\n",
       "      <td>...</td>\n",
       "      <td>...</td>\n",
       "      <td>...</td>\n",
       "      <td>...</td>\n",
       "      <td>...</td>\n",
       "      <td>...</td>\n",
       "      <td>...</td>\n",
       "      <td>...</td>\n",
       "      <td>...</td>\n",
       "    </tr>\n",
       "    <tr>\n",
       "      <th>62591</th>\n",
       "      <td>1442400915</td>\n",
       "      <td>A</td>\n",
       "      <td>d96c27c8d8e2c7e386dd0cf79735df64</td>\n",
       "      <td>9da68e182b2585afa1bb442c00c7b568</td>\n",
       "      <td>3c451a2f8eff73da6e19c4de4d470bab</td>\n",
       "      <td>2</td>\n",
       "      <td>e6705560085199e9674cd721ee844d0d</td>\n",
       "      <td>NaN</td>\n",
       "      <td>NaN</td>\n",
       "    </tr>\n",
       "    <tr>\n",
       "      <th>22637</th>\n",
       "      <td>1442400960</td>\n",
       "      <td>A</td>\n",
       "      <td>123d69fd98bedf3de42693cb48e89333</td>\n",
       "      <td>00cef5ac7626fefa6ec2ee1d8e759e54</td>\n",
       "      <td>74079a7633c1e8917ef8ac1c4cafe881</td>\n",
       "      <td>3</td>\n",
       "      <td>e6705560085199e9674cd721ee844d0d</td>\n",
       "      <td>NaN</td>\n",
       "      <td>NaN</td>\n",
       "    </tr>\n",
       "    <tr>\n",
       "      <th>38222</th>\n",
       "      <td>1442400987</td>\n",
       "      <td>A</td>\n",
       "      <td>0045f2feaafc5218f9d1ce2b2554557b</td>\n",
       "      <td>47c6ef461d563832e2461897e37b3d59</td>\n",
       "      <td>ffc7a1b81573137d147fa9a39f93244e</td>\n",
       "      <td>3</td>\n",
       "      <td>b6a1beaea9592d98e402ec9af5c4f507</td>\n",
       "      <td>NaN</td>\n",
       "      <td>NaN</td>\n",
       "    </tr>\n",
       "    <tr>\n",
       "      <th>21545</th>\n",
       "      <td>1442401000</td>\n",
       "      <td>A</td>\n",
       "      <td>463ffde7dac4c6ec57d28dfddf9e3f53</td>\n",
       "      <td>98e3f154de55f454e5c7c0d51613e28f</td>\n",
       "      <td>328b097bfd153833ff638ab3682ba339</td>\n",
       "      <td>3</td>\n",
       "      <td>29b5d0e91de8f84cbb829977dfb8f4a3</td>\n",
       "      <td>NaN</td>\n",
       "      <td>NaN</td>\n",
       "    </tr>\n",
       "    <tr>\n",
       "      <th>36687</th>\n",
       "      <td>1442401008</td>\n",
       "      <td>A</td>\n",
       "      <td>12da84be1fbccae286c895c3aaf616e7</td>\n",
       "      <td>aaf3bdc003bbc8dd60b8bad2045f700a</td>\n",
       "      <td>792e39d53e4317e13a99eb8a9bec19f9</td>\n",
       "      <td>2</td>\n",
       "      <td>29b5d0e91de8f84cbb829977dfb8f4a3</td>\n",
       "      <td>NaN</td>\n",
       "      <td>NaN</td>\n",
       "    </tr>\n",
       "  </tbody>\n",
       "</table>\n",
       "<p>9437 rows × 9 columns</p>\n",
       "</div>"
      ],
      "text/plain": [
       "       order_created_datetime brand_name                           rest_id  \\\n",
       "64367              1442102405          A  d1e66c75e8deec66a0aa08aefa5736aa   \n",
       "58676              1442102413          A  39baa0eae83853d736e398093239dcd5   \n",
       "11760              1442102439          A  d1e66c75e8deec66a0aa08aefa5736aa   \n",
       "61748              1442102459          A  7fc42db5411a27043847b4ab8aa7a5a1   \n",
       "56702              1442102504          A  3b83cec768ee9456b59a8051ead1c6fb   \n",
       "...                       ...        ...                               ...   \n",
       "62591              1442400915          A  d96c27c8d8e2c7e386dd0cf79735df64   \n",
       "22637              1442400960          A  123d69fd98bedf3de42693cb48e89333   \n",
       "38222              1442400987          A  0045f2feaafc5218f9d1ce2b2554557b   \n",
       "21545              1442401000          A  463ffde7dac4c6ec57d28dfddf9e3f53   \n",
       "36687              1442401008          A  12da84be1fbccae286c895c3aaf616e7   \n",
       "\n",
       "                               order_id                        courier_id  \\\n",
       "64367  ffc6ecf37c8391821bda9111320f299c  d016782f2092ef2b2f943e736ececced   \n",
       "58676  49d061c7882d839710443d8ac8108d7e  5b17547f825d9cf35c7853621dd842f8   \n",
       "11760  3e293d204168757552ebd7b62ea38889  d016782f2092ef2b2f943e736ececced   \n",
       "61748  b4bd74ec8d2f492f305eb70c90c3fce5  d016782f2092ef2b2f943e736ececced   \n",
       "56702  e656c891f5ee182b266b7def80ad70ae  d016782f2092ef2b2f943e736ececced   \n",
       "...                                 ...                               ...   \n",
       "62591  9da68e182b2585afa1bb442c00c7b568  3c451a2f8eff73da6e19c4de4d470bab   \n",
       "22637  00cef5ac7626fefa6ec2ee1d8e759e54  74079a7633c1e8917ef8ac1c4cafe881   \n",
       "38222  47c6ef461d563832e2461897e37b3d59  ffc7a1b81573137d147fa9a39f93244e   \n",
       "21545  98e3f154de55f454e5c7c0d51613e28f  328b097bfd153833ff638ab3682ba339   \n",
       "36687  aaf3bdc003bbc8dd60b8bad2045f700a  792e39d53e4317e13a99eb8a9bec19f9   \n",
       "\n",
       "       order_items_cnt                              city  \\\n",
       "64367                2  e6705560085199e9674cd721ee844d0d   \n",
       "58676                7  e6705560085199e9674cd721ee844d0d   \n",
       "11760               10  e6705560085199e9674cd721ee844d0d   \n",
       "61748               13  e6705560085199e9674cd721ee844d0d   \n",
       "56702                6  e6705560085199e9674cd721ee844d0d   \n",
       "...                ...                               ...   \n",
       "62591                2  e6705560085199e9674cd721ee844d0d   \n",
       "22637                3  e6705560085199e9674cd721ee844d0d   \n",
       "38222                3  b6a1beaea9592d98e402ec9af5c4f507   \n",
       "21545                3  29b5d0e91de8f84cbb829977dfb8f4a3   \n",
       "36687                2  29b5d0e91de8f84cbb829977dfb8f4a3   \n",
       "\n",
       "                              candidate  difference  \n",
       "64367  3e293d204168757552ebd7b62ea38889        34.0  \n",
       "58676  09e0e13f08f130198a21ad41cb2124cc       569.0  \n",
       "11760  ffc6ecf37c8391821bda9111320f299c        34.0  \n",
       "61748                               NaN         NaN  \n",
       "56702                               NaN         NaN  \n",
       "...                                 ...         ...  \n",
       "62591                               NaN         NaN  \n",
       "22637                               NaN         NaN  \n",
       "38222                               NaN         NaN  \n",
       "21545                               NaN         NaN  \n",
       "36687                               NaN         NaN  \n",
       "\n",
       "[9437 rows x 9 columns]"
      ]
     },
     "execution_count": 148,
     "metadata": {},
     "output_type": "execute_result"
    }
   ],
   "source": [
    "research_dataA"
   ]
  },
  {
   "cell_type": "markdown",
   "metadata": {},
   "source": [
    "## Посмотрим еще раз на долю мультизаказов в наборе данных А согласно модели"
   ]
  },
  {
   "cell_type": "markdown",
   "metadata": {},
   "source": [
    "#### Согласно референсному набору данных с готовым распределением мультизаказов"
   ]
  },
  {
   "cell_type": "code",
   "execution_count": 165,
   "metadata": {},
   "outputs": [
    {
     "name": "stdout",
     "output_type": "stream",
     "text": [
      " combinedA_ref : 442 ; totalA_ref : 9629\n"
     ]
    },
    {
     "data": {
      "text/plain": [
       "0.046"
      ]
     },
     "execution_count": 165,
     "metadata": {},
     "output_type": "execute_result"
    }
   ],
   "source": [
    "combinedA_ref = dataA_raw[dataA_raw.batched_with_order_id.notna()].order_id.count()\n",
    "totalA_ref = dataA_raw.order_id.count()\n",
    "\n",
    "print(f\" combinedA_ref : {combinedA_ref} ; totalA_ref : {totalA_ref}\")\n",
    "\n",
    "round(combinedA_ref / totalA_ref, 3) "
   ]
  },
  {
   "cell_type": "markdown",
   "metadata": {},
   "source": [
    "#### Согласно анализу с помощью модели"
   ]
  },
  {
   "cell_type": "code",
   "execution_count": 166,
   "metadata": {},
   "outputs": [
    {
     "name": "stdout",
     "output_type": "stream",
     "text": [
      " combinedA : 3270 ; totalA : 9629\n"
     ]
    },
    {
     "data": {
      "text/plain": [
       "0.34"
      ]
     },
     "execution_count": 166,
     "metadata": {},
     "output_type": "execute_result"
    }
   ],
   "source": [
    "combinedA = research_dataA[research_dataA.candidate.notna()].order_id.count()\n",
    "totalA = dataA_raw.order_id.count()\n",
    "\n",
    "print(f\" combinedA : {combinedA} ; totalA : {totalA}\")\n",
    "\n",
    "round(combinedA / totalA, 3) "
   ]
  },
  {
   "cell_type": "markdown",
   "metadata": {},
   "source": [
    "### Вывод\n",
    "\n",
    "Точность модели на тестовом наборе данных ~= -29%"
   ]
  },
  {
   "cell_type": "markdown",
   "metadata": {},
   "source": [
    "## Сравниваем реальные данные компаний А и прогноз на основе модели. "
   ]
  },
  {
   "cell_type": "markdown",
   "metadata": {},
   "source": [
    " Есть диапазон времени в течении которого взятые заказы имеют шанс быть объединены. Мы разделили этот диапазон на сегменты по 60 секунд и сравнили количество заказов референсной и модельной выборок за каждый сегмент. "
   ]
  },
  {
   "cell_type": "code",
   "execution_count": 167,
   "metadata": {
    "scrolled": false
   },
   "outputs": [
    {
     "name": "stdout",
     "output_type": "stream",
     "text": [
      " time_range: 60 ; model_data: 192 ; reference_data: 40\n",
      " time_range: 120 ; model_data: 184 ; reference_data: 32\n",
      " time_range: 180 ; model_data: 198 ; reference_data: 40\n",
      " time_range: 240 ; model_data: 178 ; reference_data: 34\n",
      " time_range: 300 ; model_data: 208 ; reference_data: 42\n",
      " time_range: 360 ; model_data: 176 ; reference_data: 30\n",
      " time_range: 420 ; model_data: 164 ; reference_data: 32\n",
      " time_range: 480 ; model_data: 172 ; reference_data: 28\n",
      " time_range: 540 ; model_data: 174 ; reference_data: 30\n",
      " time_range: 600 ; model_data: 178 ; reference_data: 30\n",
      " time_range: 660 ; model_data: 150 ; reference_data: 22\n",
      " time_range: 720 ; model_data: 188 ; reference_data: 14\n",
      " time_range: 780 ; model_data: 142 ; reference_data: 12\n",
      " time_range: 840 ; model_data: 142 ; reference_data: 18\n",
      " time_range: 900 ; model_data: 158 ; reference_data: 6\n",
      " time_range: 960 ; model_data: 126 ; reference_data: 6\n",
      " time_range: 1020 ; model_data: 164 ; reference_data: 2\n",
      " time_range: 1080 ; model_data: 144 ; reference_data: 6\n",
      " time_range: 1140 ; model_data: 130 ; reference_data: 2\n"
     ]
    }
   ],
   "source": [
    "for i, r in enumerate(time_range):\n",
    "    a3 = np.nan\n",
    "    a4 = np.nan\n",
    "    \n",
    "    if i == 0:\n",
    "        continue\n",
    "    a1 = research_dataA[(research_dataA.difference < r) & (research_dataA.difference >= time_range[i - 1])]\n",
    "    a2 = dataA_with_dif[(dataA_with_dif.difference < r) & (dataA_with_dif.difference >= time_range[i - 1])]\n",
    "    \n",
    "    print(f\" time_range: {r} ; model_data: {a1.order_id.count()} ; reference_data: {a2.order_id.count()}\")\n",
    "    "
   ]
  },
  {
   "cell_type": "code",
   "execution_count": 168,
   "metadata": {
    "scrolled": true
   },
   "outputs": [
    {
     "data": {
      "text/plain": [
       "3270"
      ]
     },
     "execution_count": 168,
     "metadata": {},
     "output_type": "execute_result"
    }
   ],
   "source": [
    "research_dataA[research_dataA.candidate.notna()].order_id.count()"
   ]
  },
  {
   "cell_type": "code",
   "execution_count": 169,
   "metadata": {
    "scrolled": false
   },
   "outputs": [
    {
     "data": {
      "text/plain": [
       "442"
      ]
     },
     "execution_count": 169,
     "metadata": {},
     "output_type": "execute_result"
    }
   ],
   "source": [
    "dataA_raw[dataA_raw.batched_with_order_id.notna()].order_id.count()"
   ]
  },
  {
   "cell_type": "markdown",
   "metadata": {},
   "source": [
    "# Анализируем набор данных B"
   ]
  },
  {
   "cell_type": "markdown",
   "metadata": {},
   "source": [
    "### Посмотрим, что из себя представляет датасет"
   ]
  },
  {
   "cell_type": "code",
   "execution_count": 154,
   "metadata": {
    "scrolled": true
   },
   "outputs": [
    {
     "data": {
      "text/html": [
       "<div>\n",
       "<style scoped>\n",
       "    .dataframe tbody tr th:only-of-type {\n",
       "        vertical-align: middle;\n",
       "    }\n",
       "\n",
       "    .dataframe tbody tr th {\n",
       "        vertical-align: top;\n",
       "    }\n",
       "\n",
       "    .dataframe thead th {\n",
       "        text-align: right;\n",
       "    }\n",
       "</style>\n",
       "<table border=\"1\" class=\"dataframe\">\n",
       "  <thead>\n",
       "    <tr style=\"text-align: right;\">\n",
       "      <th></th>\n",
       "      <th>order_created_datetime</th>\n",
       "      <th>brand_name</th>\n",
       "      <th>rest_id</th>\n",
       "      <th>batched_with_order_id</th>\n",
       "      <th>order_id</th>\n",
       "      <th>first_in_multiorder_flg</th>\n",
       "      <th>courier_id</th>\n",
       "      <th>order_items_cnt</th>\n",
       "      <th>city</th>\n",
       "    </tr>\n",
       "  </thead>\n",
       "  <tbody>\n",
       "    <tr>\n",
       "      <th>0</th>\n",
       "      <td>1442351323</td>\n",
       "      <td>B</td>\n",
       "      <td>7cc98331ddb8ccffe464455f3df763d9</td>\n",
       "      <td>NaN</td>\n",
       "      <td>0b6f25c79b35fd1e6d28d845b7ee511d</td>\n",
       "      <td>NaN</td>\n",
       "      <td>3f1b96f620988a92d3409ea05e87bd36</td>\n",
       "      <td>3</td>\n",
       "      <td>c6fbacc5cab7e134c9db2a4bbfcc5b64</td>\n",
       "    </tr>\n",
       "    <tr>\n",
       "      <th>3</th>\n",
       "      <td>1442165032</td>\n",
       "      <td>B</td>\n",
       "      <td>7cc98331ddb8ccffe464455f3df763d9</td>\n",
       "      <td>NaN</td>\n",
       "      <td>5dc658f0928569dbefac74c9f311031c</td>\n",
       "      <td>NaN</td>\n",
       "      <td>81647a72700bd46635d9606082360cc8</td>\n",
       "      <td>6</td>\n",
       "      <td>c6fbacc5cab7e134c9db2a4bbfcc5b64</td>\n",
       "    </tr>\n",
       "    <tr>\n",
       "      <th>4</th>\n",
       "      <td>1442142905</td>\n",
       "      <td>B</td>\n",
       "      <td>7cc98331ddb8ccffe464455f3df763d9</td>\n",
       "      <td>NaN</td>\n",
       "      <td>3da09410aeab781baf4b7039fc9b125c</td>\n",
       "      <td>NaN</td>\n",
       "      <td>065c18216b6d3369d4cc36418c6e80f2</td>\n",
       "      <td>7</td>\n",
       "      <td>c6fbacc5cab7e134c9db2a4bbfcc5b64</td>\n",
       "    </tr>\n",
       "    <tr>\n",
       "      <th>5</th>\n",
       "      <td>1442230084</td>\n",
       "      <td>B</td>\n",
       "      <td>4f862b1c0f475f2ec02d0bb492e1bb6b</td>\n",
       "      <td>NaN</td>\n",
       "      <td>0d87ec6db915db7b08d030c180b5544d</td>\n",
       "      <td>NaN</td>\n",
       "      <td>901d78a522546d63a5880dca87a9fc68</td>\n",
       "      <td>2</td>\n",
       "      <td>29b5d0e91de8f84cbb829977dfb8f4a3</td>\n",
       "    </tr>\n",
       "    <tr>\n",
       "      <th>6</th>\n",
       "      <td>1442340327</td>\n",
       "      <td>B</td>\n",
       "      <td>7cc98331ddb8ccffe464455f3df763d9</td>\n",
       "      <td>NaN</td>\n",
       "      <td>2962a825d28d38d8521732054cd33a21</td>\n",
       "      <td>NaN</td>\n",
       "      <td>4254e1350fb4b678534934e12186ca5b</td>\n",
       "      <td>8</td>\n",
       "      <td>c6fbacc5cab7e134c9db2a4bbfcc5b64</td>\n",
       "    </tr>\n",
       "    <tr>\n",
       "      <th>...</th>\n",
       "      <td>...</td>\n",
       "      <td>...</td>\n",
       "      <td>...</td>\n",
       "      <td>...</td>\n",
       "      <td>...</td>\n",
       "      <td>...</td>\n",
       "      <td>...</td>\n",
       "      <td>...</td>\n",
       "      <td>...</td>\n",
       "    </tr>\n",
       "    <tr>\n",
       "      <th>66457</th>\n",
       "      <td>1442351866</td>\n",
       "      <td>B</td>\n",
       "      <td>6eac513bc19a193c9a3e948f0fdfee2f</td>\n",
       "      <td>NaN</td>\n",
       "      <td>49efd4ae86f18ba51a9e2c342ac7a074</td>\n",
       "      <td>NaN</td>\n",
       "      <td>c8705ecd2fb2a8e4fb37626784aebe5d</td>\n",
       "      <td>5</td>\n",
       "      <td>e6705560085199e9674cd721ee844d0d</td>\n",
       "    </tr>\n",
       "    <tr>\n",
       "      <th>66458</th>\n",
       "      <td>1442270657</td>\n",
       "      <td>B</td>\n",
       "      <td>6eac513bc19a193c9a3e948f0fdfee2f</td>\n",
       "      <td>NaN</td>\n",
       "      <td>4d7468068cd05e471f386344f5c0563f</td>\n",
       "      <td>NaN</td>\n",
       "      <td>6e04b6a777a347ed138d8e0cb31e9773</td>\n",
       "      <td>3</td>\n",
       "      <td>e6705560085199e9674cd721ee844d0d</td>\n",
       "    </tr>\n",
       "    <tr>\n",
       "      <th>66459</th>\n",
       "      <td>1442243499</td>\n",
       "      <td>B</td>\n",
       "      <td>6eac513bc19a193c9a3e948f0fdfee2f</td>\n",
       "      <td>NaN</td>\n",
       "      <td>b708d7b95a1074dffa489f24979e75da</td>\n",
       "      <td>NaN</td>\n",
       "      <td>341d498debd8e1f1480085368a039fe0</td>\n",
       "      <td>2</td>\n",
       "      <td>e6705560085199e9674cd721ee844d0d</td>\n",
       "    </tr>\n",
       "    <tr>\n",
       "      <th>66460</th>\n",
       "      <td>1442147512</td>\n",
       "      <td>B</td>\n",
       "      <td>7b2d079460287a2790c8ff8cdd00662a</td>\n",
       "      <td>NaN</td>\n",
       "      <td>067c8c3c6fe182ce5929795a66ce6b99</td>\n",
       "      <td>NaN</td>\n",
       "      <td>78254a70dcbad06f793b8310d6a341f2</td>\n",
       "      <td>6</td>\n",
       "      <td>ea9f1e9302826b93f5ac1898375fbc38</td>\n",
       "    </tr>\n",
       "    <tr>\n",
       "      <th>66461</th>\n",
       "      <td>1442340191</td>\n",
       "      <td>B</td>\n",
       "      <td>6eac513bc19a193c9a3e948f0fdfee2f</td>\n",
       "      <td>NaN</td>\n",
       "      <td>e5506f6d06a985911f748ce468290147</td>\n",
       "      <td>NaN</td>\n",
       "      <td>b275d37d02405002cc9e9ffba10e4aef</td>\n",
       "      <td>7</td>\n",
       "      <td>e6705560085199e9674cd721ee844d0d</td>\n",
       "    </tr>\n",
       "  </tbody>\n",
       "</table>\n",
       "<p>56835 rows × 9 columns</p>\n",
       "</div>"
      ],
      "text/plain": [
       "       order_created_datetime brand_name                           rest_id  \\\n",
       "0                  1442351323          B  7cc98331ddb8ccffe464455f3df763d9   \n",
       "3                  1442165032          B  7cc98331ddb8ccffe464455f3df763d9   \n",
       "4                  1442142905          B  7cc98331ddb8ccffe464455f3df763d9   \n",
       "5                  1442230084          B  4f862b1c0f475f2ec02d0bb492e1bb6b   \n",
       "6                  1442340327          B  7cc98331ddb8ccffe464455f3df763d9   \n",
       "...                       ...        ...                               ...   \n",
       "66457              1442351866          B  6eac513bc19a193c9a3e948f0fdfee2f   \n",
       "66458              1442270657          B  6eac513bc19a193c9a3e948f0fdfee2f   \n",
       "66459              1442243499          B  6eac513bc19a193c9a3e948f0fdfee2f   \n",
       "66460              1442147512          B  7b2d079460287a2790c8ff8cdd00662a   \n",
       "66461              1442340191          B  6eac513bc19a193c9a3e948f0fdfee2f   \n",
       "\n",
       "      batched_with_order_id                          order_id  \\\n",
       "0                       NaN  0b6f25c79b35fd1e6d28d845b7ee511d   \n",
       "3                       NaN  5dc658f0928569dbefac74c9f311031c   \n",
       "4                       NaN  3da09410aeab781baf4b7039fc9b125c   \n",
       "5                       NaN  0d87ec6db915db7b08d030c180b5544d   \n",
       "6                       NaN  2962a825d28d38d8521732054cd33a21   \n",
       "...                     ...                               ...   \n",
       "66457                   NaN  49efd4ae86f18ba51a9e2c342ac7a074   \n",
       "66458                   NaN  4d7468068cd05e471f386344f5c0563f   \n",
       "66459                   NaN  b708d7b95a1074dffa489f24979e75da   \n",
       "66460                   NaN  067c8c3c6fe182ce5929795a66ce6b99   \n",
       "66461                   NaN  e5506f6d06a985911f748ce468290147   \n",
       "\n",
       "       first_in_multiorder_flg                        courier_id  \\\n",
       "0                          NaN  3f1b96f620988a92d3409ea05e87bd36   \n",
       "3                          NaN  81647a72700bd46635d9606082360cc8   \n",
       "4                          NaN  065c18216b6d3369d4cc36418c6e80f2   \n",
       "5                          NaN  901d78a522546d63a5880dca87a9fc68   \n",
       "6                          NaN  4254e1350fb4b678534934e12186ca5b   \n",
       "...                        ...                               ...   \n",
       "66457                      NaN  c8705ecd2fb2a8e4fb37626784aebe5d   \n",
       "66458                      NaN  6e04b6a777a347ed138d8e0cb31e9773   \n",
       "66459                      NaN  341d498debd8e1f1480085368a039fe0   \n",
       "66460                      NaN  78254a70dcbad06f793b8310d6a341f2   \n",
       "66461                      NaN  b275d37d02405002cc9e9ffba10e4aef   \n",
       "\n",
       "       order_items_cnt                              city  \n",
       "0                    3  c6fbacc5cab7e134c9db2a4bbfcc5b64  \n",
       "3                    6  c6fbacc5cab7e134c9db2a4bbfcc5b64  \n",
       "4                    7  c6fbacc5cab7e134c9db2a4bbfcc5b64  \n",
       "5                    2  29b5d0e91de8f84cbb829977dfb8f4a3  \n",
       "6                    8  c6fbacc5cab7e134c9db2a4bbfcc5b64  \n",
       "...                ...                               ...  \n",
       "66457                5  e6705560085199e9674cd721ee844d0d  \n",
       "66458                3  e6705560085199e9674cd721ee844d0d  \n",
       "66459                2  e6705560085199e9674cd721ee844d0d  \n",
       "66460                6  ea9f1e9302826b93f5ac1898375fbc38  \n",
       "66461                7  e6705560085199e9674cd721ee844d0d  \n",
       "\n",
       "[56835 rows x 9 columns]"
      ]
     },
     "execution_count": 154,
     "metadata": {},
     "output_type": "execute_result"
    }
   ],
   "source": [
    "dataB_raw"
   ]
  },
  {
   "cell_type": "code",
   "execution_count": 155,
   "metadata": {
    "scrolled": true
   },
   "outputs": [
    {
     "name": "stdout",
     "output_type": "stream",
     "text": [
      "незаполненные значения:\n",
      "order_created_datetime         0\n",
      "brand_name                     0\n",
      "rest_id                        0\n",
      "batched_with_order_id      56835\n",
      "order_id                       0\n",
      "first_in_multiorder_flg    56835\n",
      "courier_id                    70\n",
      "order_items_cnt                0\n",
      "city                           0\n",
      "dtype: int64\n"
     ]
    }
   ],
   "source": [
    "print(f'незаполненные значения:\\n{dataB_raw.isnull().sum()}')"
   ]
  },
  {
   "cell_type": "code",
   "execution_count": 41,
   "metadata": {},
   "outputs": [],
   "source": [
    "# Уберем лишние столбцы\n",
    "dataB = dataB_raw.drop(columns=['batched_with_order_id', 'first_in_multiorder_flg'])"
   ]
  },
  {
   "cell_type": "markdown",
   "metadata": {},
   "source": [
    "#### Применим модель на набор данных B"
   ]
  },
  {
   "cell_type": "code",
   "execution_count": 170,
   "metadata": {
    "scrolled": true
   },
   "outputs": [
    {
     "name": "stdout",
     "output_type": "stream",
     "text": [
      "Wall time: 3min 28s\n"
     ]
    }
   ],
   "source": [
    "%%time\n",
    "research_dataB = check_multiorder(dataB.dropna())"
   ]
  },
  {
   "cell_type": "code",
   "execution_count": 171,
   "metadata": {
    "scrolled": true
   },
   "outputs": [
    {
     "data": {
      "text/html": [
       "<div>\n",
       "<style scoped>\n",
       "    .dataframe tbody tr th:only-of-type {\n",
       "        vertical-align: middle;\n",
       "    }\n",
       "\n",
       "    .dataframe tbody tr th {\n",
       "        vertical-align: top;\n",
       "    }\n",
       "\n",
       "    .dataframe thead th {\n",
       "        text-align: right;\n",
       "    }\n",
       "</style>\n",
       "<table border=\"1\" class=\"dataframe\">\n",
       "  <thead>\n",
       "    <tr style=\"text-align: right;\">\n",
       "      <th></th>\n",
       "      <th>order_created_datetime</th>\n",
       "      <th>brand_name</th>\n",
       "      <th>rest_id</th>\n",
       "      <th>order_id</th>\n",
       "      <th>courier_id</th>\n",
       "      <th>order_items_cnt</th>\n",
       "      <th>city</th>\n",
       "      <th>candidate</th>\n",
       "      <th>difference</th>\n",
       "    </tr>\n",
       "  </thead>\n",
       "  <tbody>\n",
       "    <tr>\n",
       "      <th>41675</th>\n",
       "      <td>1442102444</td>\n",
       "      <td>B</td>\n",
       "      <td>69a08198a23fac8f83359e2ec23a49b6</td>\n",
       "      <td>d9f50562ab79c432e64413fcee7aeb9c</td>\n",
       "      <td>8ec5e3cc3bc59b70a0c8863b0355cc92</td>\n",
       "      <td>3</td>\n",
       "      <td>e6705560085199e9674cd721ee844d0d</td>\n",
       "      <td>5cc2b1699fdbeee506fb770ff77c4ff9</td>\n",
       "      <td>9.0</td>\n",
       "    </tr>\n",
       "    <tr>\n",
       "      <th>41533</th>\n",
       "      <td>1442102453</td>\n",
       "      <td>B</td>\n",
       "      <td>69a08198a23fac8f83359e2ec23a49b6</td>\n",
       "      <td>5cc2b1699fdbeee506fb770ff77c4ff9</td>\n",
       "      <td>50c20cfed81be8a8fbcd8dc5b2e2ab76</td>\n",
       "      <td>7</td>\n",
       "      <td>e6705560085199e9674cd721ee844d0d</td>\n",
       "      <td>d9f50562ab79c432e64413fcee7aeb9c</td>\n",
       "      <td>9.0</td>\n",
       "    </tr>\n",
       "    <tr>\n",
       "      <th>61228</th>\n",
       "      <td>1442102507</td>\n",
       "      <td>B</td>\n",
       "      <td>938cc47b8207a782316f907be53aab3c</td>\n",
       "      <td>b43251899246c62369370f143f2e73b2</td>\n",
       "      <td>4b6de04194b5a6f6ebdf6e09458eab6f</td>\n",
       "      <td>1</td>\n",
       "      <td>e6705560085199e9674cd721ee844d0d</td>\n",
       "      <td>ad4c9f3927f793d870ba5f2c0e81246b</td>\n",
       "      <td>644.0</td>\n",
       "    </tr>\n",
       "    <tr>\n",
       "      <th>41753</th>\n",
       "      <td>1442102623</td>\n",
       "      <td>B</td>\n",
       "      <td>69a08198a23fac8f83359e2ec23a49b6</td>\n",
       "      <td>943eee04ddeee9b44635947d7c0a8f41</td>\n",
       "      <td>768f844a816657e7533495bd01bc2a80</td>\n",
       "      <td>3</td>\n",
       "      <td>e6705560085199e9674cd721ee844d0d</td>\n",
       "      <td>1cdd6f0ceaf0d22a266e783f409b726d</td>\n",
       "      <td>334.0</td>\n",
       "    </tr>\n",
       "    <tr>\n",
       "      <th>50735</th>\n",
       "      <td>1442102661</td>\n",
       "      <td>B</td>\n",
       "      <td>d3fba5f2e58b2a4f4dc4bf94d6cc3e49</td>\n",
       "      <td>75863a090739e1b8c50747bea638639a</td>\n",
       "      <td>b30f23a13ea180021abfcb8f98d126cc</td>\n",
       "      <td>1</td>\n",
       "      <td>e6705560085199e9674cd721ee844d0d</td>\n",
       "      <td>553eb2b08fe57e4d16e99b19de824926</td>\n",
       "      <td>160.0</td>\n",
       "    </tr>\n",
       "    <tr>\n",
       "      <th>...</th>\n",
       "      <td>...</td>\n",
       "      <td>...</td>\n",
       "      <td>...</td>\n",
       "      <td>...</td>\n",
       "      <td>...</td>\n",
       "      <td>...</td>\n",
       "      <td>...</td>\n",
       "      <td>...</td>\n",
       "      <td>...</td>\n",
       "    </tr>\n",
       "    <tr>\n",
       "      <th>18992</th>\n",
       "      <td>1442400996</td>\n",
       "      <td>B</td>\n",
       "      <td>7b2d079460287a2790c8ff8cdd00662a</td>\n",
       "      <td>e2811aa742866b51a56ea9f3e2bfc373</td>\n",
       "      <td>423dc018bb2d2e3604f863aa145f8851</td>\n",
       "      <td>1</td>\n",
       "      <td>ea9f1e9302826b93f5ac1898375fbc38</td>\n",
       "      <td>NaN</td>\n",
       "      <td>NaN</td>\n",
       "    </tr>\n",
       "    <tr>\n",
       "      <th>62680</th>\n",
       "      <td>1442401005</td>\n",
       "      <td>B</td>\n",
       "      <td>0596c848dec6a3c13396cc4b80f8974c</td>\n",
       "      <td>4d79146812797a87907c6f5b144596a9</td>\n",
       "      <td>4c122524cdec8e402db29fb2e7136508</td>\n",
       "      <td>9</td>\n",
       "      <td>29b5d0e91de8f84cbb829977dfb8f4a3</td>\n",
       "      <td>NaN</td>\n",
       "      <td>NaN</td>\n",
       "    </tr>\n",
       "    <tr>\n",
       "      <th>43883</th>\n",
       "      <td>1442401013</td>\n",
       "      <td>B</td>\n",
       "      <td>7cc98331ddb8ccffe464455f3df763d9</td>\n",
       "      <td>06565a86181e342c7d64b1ea788b308c</td>\n",
       "      <td>906808228a91832545f6e52a6c202739</td>\n",
       "      <td>2</td>\n",
       "      <td>c6fbacc5cab7e134c9db2a4bbfcc5b64</td>\n",
       "      <td>NaN</td>\n",
       "      <td>NaN</td>\n",
       "    </tr>\n",
       "    <tr>\n",
       "      <th>2612</th>\n",
       "      <td>1442401017</td>\n",
       "      <td>B</td>\n",
       "      <td>ce43eec08c9089152e6a8d6f2b6cc888</td>\n",
       "      <td>de69eb79833a6f417f316ab70c17ce9c</td>\n",
       "      <td>6d684c83727f7ca26516270d56d6d1f9</td>\n",
       "      <td>3</td>\n",
       "      <td>feb10fbf40476b6ca4793a84b67011cf</td>\n",
       "      <td>f75eb4b265ff0259e0c503829a6f2a83</td>\n",
       "      <td>106.0</td>\n",
       "    </tr>\n",
       "    <tr>\n",
       "      <th>65498</th>\n",
       "      <td>1442401019</td>\n",
       "      <td>B</td>\n",
       "      <td>0437d5ccc002a15c19d89fd98c80035c</td>\n",
       "      <td>6205554e043f0d84544ef6d22eae9ad2</td>\n",
       "      <td>86a3494da03e99f76c8fba70d92173c4</td>\n",
       "      <td>1</td>\n",
       "      <td>e6705560085199e9674cd721ee844d0d</td>\n",
       "      <td>NaN</td>\n",
       "      <td>NaN</td>\n",
       "    </tr>\n",
       "  </tbody>\n",
       "</table>\n",
       "<p>56765 rows × 9 columns</p>\n",
       "</div>"
      ],
      "text/plain": [
       "       order_created_datetime brand_name                           rest_id  \\\n",
       "41675              1442102444          B  69a08198a23fac8f83359e2ec23a49b6   \n",
       "41533              1442102453          B  69a08198a23fac8f83359e2ec23a49b6   \n",
       "61228              1442102507          B  938cc47b8207a782316f907be53aab3c   \n",
       "41753              1442102623          B  69a08198a23fac8f83359e2ec23a49b6   \n",
       "50735              1442102661          B  d3fba5f2e58b2a4f4dc4bf94d6cc3e49   \n",
       "...                       ...        ...                               ...   \n",
       "18992              1442400996          B  7b2d079460287a2790c8ff8cdd00662a   \n",
       "62680              1442401005          B  0596c848dec6a3c13396cc4b80f8974c   \n",
       "43883              1442401013          B  7cc98331ddb8ccffe464455f3df763d9   \n",
       "2612               1442401017          B  ce43eec08c9089152e6a8d6f2b6cc888   \n",
       "65498              1442401019          B  0437d5ccc002a15c19d89fd98c80035c   \n",
       "\n",
       "                               order_id                        courier_id  \\\n",
       "41675  d9f50562ab79c432e64413fcee7aeb9c  8ec5e3cc3bc59b70a0c8863b0355cc92   \n",
       "41533  5cc2b1699fdbeee506fb770ff77c4ff9  50c20cfed81be8a8fbcd8dc5b2e2ab76   \n",
       "61228  b43251899246c62369370f143f2e73b2  4b6de04194b5a6f6ebdf6e09458eab6f   \n",
       "41753  943eee04ddeee9b44635947d7c0a8f41  768f844a816657e7533495bd01bc2a80   \n",
       "50735  75863a090739e1b8c50747bea638639a  b30f23a13ea180021abfcb8f98d126cc   \n",
       "...                                 ...                               ...   \n",
       "18992  e2811aa742866b51a56ea9f3e2bfc373  423dc018bb2d2e3604f863aa145f8851   \n",
       "62680  4d79146812797a87907c6f5b144596a9  4c122524cdec8e402db29fb2e7136508   \n",
       "43883  06565a86181e342c7d64b1ea788b308c  906808228a91832545f6e52a6c202739   \n",
       "2612   de69eb79833a6f417f316ab70c17ce9c  6d684c83727f7ca26516270d56d6d1f9   \n",
       "65498  6205554e043f0d84544ef6d22eae9ad2  86a3494da03e99f76c8fba70d92173c4   \n",
       "\n",
       "       order_items_cnt                              city  \\\n",
       "41675                3  e6705560085199e9674cd721ee844d0d   \n",
       "41533                7  e6705560085199e9674cd721ee844d0d   \n",
       "61228                1  e6705560085199e9674cd721ee844d0d   \n",
       "41753                3  e6705560085199e9674cd721ee844d0d   \n",
       "50735                1  e6705560085199e9674cd721ee844d0d   \n",
       "...                ...                               ...   \n",
       "18992                1  ea9f1e9302826b93f5ac1898375fbc38   \n",
       "62680                9  29b5d0e91de8f84cbb829977dfb8f4a3   \n",
       "43883                2  c6fbacc5cab7e134c9db2a4bbfcc5b64   \n",
       "2612                 3  feb10fbf40476b6ca4793a84b67011cf   \n",
       "65498                1  e6705560085199e9674cd721ee844d0d   \n",
       "\n",
       "                              candidate  difference  \n",
       "41675  5cc2b1699fdbeee506fb770ff77c4ff9         9.0  \n",
       "41533  d9f50562ab79c432e64413fcee7aeb9c         9.0  \n",
       "61228  ad4c9f3927f793d870ba5f2c0e81246b       644.0  \n",
       "41753  1cdd6f0ceaf0d22a266e783f409b726d       334.0  \n",
       "50735  553eb2b08fe57e4d16e99b19de824926       160.0  \n",
       "...                                 ...         ...  \n",
       "18992                               NaN         NaN  \n",
       "62680                               NaN         NaN  \n",
       "43883                               NaN         NaN  \n",
       "2612   f75eb4b265ff0259e0c503829a6f2a83       106.0  \n",
       "65498                               NaN         NaN  \n",
       "\n",
       "[56765 rows x 9 columns]"
      ]
     },
     "execution_count": 171,
     "metadata": {},
     "output_type": "execute_result"
    }
   ],
   "source": [
    "research_dataB"
   ]
  },
  {
   "cell_type": "code",
   "execution_count": 172,
   "metadata": {},
   "outputs": [
    {
     "name": "stdout",
     "output_type": "stream",
     "text": [
      " combinedB : 42976 ; totalB : 56765\n"
     ]
    },
    {
     "data": {
      "text/plain": [
       "0.757"
      ]
     },
     "execution_count": 172,
     "metadata": {},
     "output_type": "execute_result"
    }
   ],
   "source": [
    "combinedB = research_dataB[research_dataB.candidate.notna()].order_id.count()\n",
    "totalB = dataB.dropna().order_id.count()\n",
    "\n",
    "print(f\" combinedB : {combinedB} ; totalB : {totalB}\")\n",
    "\n",
    "round(combinedB / totalB, 3) "
   ]
  }
 ],
 "metadata": {
  "kernelspec": {
   "display_name": "Python 3",
   "language": "python",
   "name": "python3"
  },
  "language_info": {
   "codemirror_mode": {
    "name": "ipython",
    "version": 3
   },
   "file_extension": ".py",
   "mimetype": "text/x-python",
   "name": "python",
   "nbconvert_exporter": "python",
   "pygments_lexer": "ipython3",
   "version": "3.8.3"
  }
 },
 "nbformat": 4,
 "nbformat_minor": 4
}
